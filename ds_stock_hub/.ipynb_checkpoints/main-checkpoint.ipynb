{
 "cells": [
  {
   "cell_type": "markdown",
   "id": "f68b8704-3288-4557-b39b-b521e4c19449",
   "metadata": {},
   "source": [
    "## DATA INSIGHT AND DATA VISUALIZATION OF STOCK : FOREIGN AND DOMESTIC"
   ]
  },
  {
   "cell_type": "markdown",
   "id": "ccfed542-693c-4f78-ac61-38fb1b4a4724",
   "metadata": {},
   "source": [
    "### 1. IMPORT DATA AND ESSENTIAL LIBRARIES"
   ]
  },
  {
   "cell_type": "code",
   "execution_count": 5,
   "id": "713420a3-fa78-4d57-93ab-8db5d34b16d0",
   "metadata": {},
   "outputs": [],
   "source": [
    "import pandas as pd\n",
    "import plotly.graph_objects as go\n",
    "import numpy as np\n",
    "import matplotlib.pyplot as plt\n",
    "import seaborn as sns\n",
    "import re \n",
    "from sklearn.preprocessing import StandardScaler\n",
    "from sklearn.decomposition import PCA\n",
    "from sklearn.cluster import KMeans"
   ]
  },
  {
   "cell_type": "code",
   "execution_count": 6,
   "id": "bab37f0c-9f72-49d4-893d-4f68828d9a7e",
   "metadata": {},
   "outputs": [
    {
     "data": {
      "text/html": [
       "<div>\n",
       "<style scoped>\n",
       "    .dataframe tbody tr th:only-of-type {\n",
       "        vertical-align: middle;\n",
       "    }\n",
       "\n",
       "    .dataframe tbody tr th {\n",
       "        vertical-align: top;\n",
       "    }\n",
       "\n",
       "    .dataframe thead th {\n",
       "        text-align: right;\n",
       "    }\n",
       "</style>\n",
       "<table border=\"1\" class=\"dataframe\">\n",
       "  <thead>\n",
       "    <tr style=\"text-align: right;\">\n",
       "      <th></th>\n",
       "      <th>Ngày</th>\n",
       "      <th>Dữ liệu Lịch sử CTG_Lần cuối</th>\n",
       "      <th>Dữ liệu Lịch sử CTG_Mở</th>\n",
       "      <th>Dữ liệu Lịch sử CTG_Cao</th>\n",
       "      <th>Dữ liệu Lịch sử CTG_Thấp</th>\n",
       "      <th>Dữ liệu Lịch sử CTG_KL</th>\n",
       "      <th>Dữ liệu Lịch sử CTG_% Thay đổi</th>\n",
       "      <th>Dữ liệu Lịch sử DE571515_Lần cuối</th>\n",
       "      <th>Dữ liệu Lịch sử DE571515_Mở</th>\n",
       "      <th>Dữ liệu Lịch sử DE571515_Cao</th>\n",
       "      <th>...</th>\n",
       "      <th>Dữ liệu Lịch sử DE827430_Lần cuối</th>\n",
       "      <th>Dữ liệu Lịch sử DE827430_Mở</th>\n",
       "      <th>Dữ liệu Lịch sử DE827430_Cao</th>\n",
       "      <th>Dữ liệu Lịch sử DE827430_Thấp</th>\n",
       "      <th>Dữ liệu Lịch sử DE827430_% Thay đổi</th>\n",
       "      <th>Dữ liệu Lịch sử DE918556_Lần cuối</th>\n",
       "      <th>Dữ liệu Lịch sử DE918556_Mở</th>\n",
       "      <th>Dữ liệu Lịch sử DE918556_Cao</th>\n",
       "      <th>Dữ liệu Lịch sử DE918556_Thấp</th>\n",
       "      <th>Dữ liệu Lịch sử DE918556_% Thay đổi</th>\n",
       "    </tr>\n",
       "  </thead>\n",
       "  <tbody>\n",
       "    <tr>\n",
       "      <th>0</th>\n",
       "      <td>2025-08-18</td>\n",
       "      <td>48500</td>\n",
       "      <td>49050</td>\n",
       "      <td>49400</td>\n",
       "      <td>48200</td>\n",
       "      <td>12390000</td>\n",
       "      <td>-1.02</td>\n",
       "      <td>263.44</td>\n",
       "      <td>267.14</td>\n",
       "      <td>267.14</td>\n",
       "      <td>...</td>\n",
       "      <td>27.66</td>\n",
       "      <td>27.73</td>\n",
       "      <td>27.73</td>\n",
       "      <td>27.47</td>\n",
       "      <td>0.25</td>\n",
       "      <td>131.47</td>\n",
       "      <td>131.53</td>\n",
       "      <td>132.07</td>\n",
       "      <td>131.03</td>\n",
       "      <td>0.16</td>\n",
       "    </tr>\n",
       "    <tr>\n",
       "      <th>1</th>\n",
       "      <td>2025-08-19</td>\n",
       "      <td>49600</td>\n",
       "      <td>48900</td>\n",
       "      <td>49800</td>\n",
       "      <td>48850</td>\n",
       "      <td>11750000</td>\n",
       "      <td>2.27</td>\n",
       "      <td>259.02</td>\n",
       "      <td>261.62</td>\n",
       "      <td>261.62</td>\n",
       "      <td>...</td>\n",
       "      <td>27.80</td>\n",
       "      <td>27.82</td>\n",
       "      <td>27.85</td>\n",
       "      <td>27.71</td>\n",
       "      <td>0.51</td>\n",
       "      <td>131.26</td>\n",
       "      <td>131.86</td>\n",
       "      <td>131.86</td>\n",
       "      <td>131.09</td>\n",
       "      <td>-0.16</td>\n",
       "    </tr>\n",
       "    <tr>\n",
       "      <th>2</th>\n",
       "      <td>2025-08-20</td>\n",
       "      <td>50600</td>\n",
       "      <td>49650</td>\n",
       "      <td>52000</td>\n",
       "      <td>49100</td>\n",
       "      <td>15740000</td>\n",
       "      <td>2.02</td>\n",
       "      <td>259.05</td>\n",
       "      <td>259.49</td>\n",
       "      <td>259.49</td>\n",
       "      <td>...</td>\n",
       "      <td>27.86</td>\n",
       "      <td>27.88</td>\n",
       "      <td>27.90</td>\n",
       "      <td>27.85</td>\n",
       "      <td>0.22</td>\n",
       "      <td>131.61</td>\n",
       "      <td>131.88</td>\n",
       "      <td>131.88</td>\n",
       "      <td>131.61</td>\n",
       "      <td>0.27</td>\n",
       "    </tr>\n",
       "    <tr>\n",
       "      <th>3</th>\n",
       "      <td>2025-08-21</td>\n",
       "      <td>51800</td>\n",
       "      <td>51300</td>\n",
       "      <td>52700</td>\n",
       "      <td>51000</td>\n",
       "      <td>17840000</td>\n",
       "      <td>2.37</td>\n",
       "      <td>258.69</td>\n",
       "      <td>257.07</td>\n",
       "      <td>259.07</td>\n",
       "      <td>...</td>\n",
       "      <td>27.42</td>\n",
       "      <td>27.64</td>\n",
       "      <td>27.64</td>\n",
       "      <td>27.40</td>\n",
       "      <td>-1.58</td>\n",
       "      <td>131.38</td>\n",
       "      <td>131.30</td>\n",
       "      <td>131.71</td>\n",
       "      <td>131.25</td>\n",
       "      <td>-0.17</td>\n",
       "    </tr>\n",
       "    <tr>\n",
       "      <th>4</th>\n",
       "      <td>2025-08-22</td>\n",
       "      <td>50900</td>\n",
       "      <td>51500</td>\n",
       "      <td>53400</td>\n",
       "      <td>49900</td>\n",
       "      <td>24280000</td>\n",
       "      <td>-1.74</td>\n",
       "      <td>264.97</td>\n",
       "      <td>261.68</td>\n",
       "      <td>265.64</td>\n",
       "      <td>...</td>\n",
       "      <td>27.83</td>\n",
       "      <td>27.56</td>\n",
       "      <td>27.84</td>\n",
       "      <td>27.56</td>\n",
       "      <td>1.50</td>\n",
       "      <td>132.21</td>\n",
       "      <td>132.42</td>\n",
       "      <td>132.68</td>\n",
       "      <td>132.19</td>\n",
       "      <td>0.63</td>\n",
       "    </tr>\n",
       "  </tbody>\n",
       "</table>\n",
       "<p>5 rows × 52 columns</p>\n",
       "</div>"
      ],
      "text/plain": [
       "        Ngày  Dữ liệu Lịch sử CTG_Lần cuối  Dữ liệu Lịch sử CTG_Mở  \\\n",
       "0 2025-08-18                         48500                   49050   \n",
       "1 2025-08-19                         49600                   48900   \n",
       "2 2025-08-20                         50600                   49650   \n",
       "3 2025-08-21                         51800                   51300   \n",
       "4 2025-08-22                         50900                   51500   \n",
       "\n",
       "   Dữ liệu Lịch sử CTG_Cao  Dữ liệu Lịch sử CTG_Thấp  Dữ liệu Lịch sử CTG_KL  \\\n",
       "0                    49400                     48200                12390000   \n",
       "1                    49800                     48850                11750000   \n",
       "2                    52000                     49100                15740000   \n",
       "3                    52700                     51000                17840000   \n",
       "4                    53400                     49900                24280000   \n",
       "\n",
       "   Dữ liệu Lịch sử CTG_% Thay đổi  Dữ liệu Lịch sử DE571515_Lần cuối  \\\n",
       "0                           -1.02                             263.44   \n",
       "1                            2.27                             259.02   \n",
       "2                            2.02                             259.05   \n",
       "3                            2.37                             258.69   \n",
       "4                           -1.74                             264.97   \n",
       "\n",
       "   Dữ liệu Lịch sử DE571515_Mở  Dữ liệu Lịch sử DE571515_Cao  ...  \\\n",
       "0                       267.14                        267.14  ...   \n",
       "1                       261.62                        261.62  ...   \n",
       "2                       259.49                        259.49  ...   \n",
       "3                       257.07                        259.07  ...   \n",
       "4                       261.68                        265.64  ...   \n",
       "\n",
       "   Dữ liệu Lịch sử DE827430_Lần cuối  Dữ liệu Lịch sử DE827430_Mở  \\\n",
       "0                              27.66                        27.73   \n",
       "1                              27.80                        27.82   \n",
       "2                              27.86                        27.88   \n",
       "3                              27.42                        27.64   \n",
       "4                              27.83                        27.56   \n",
       "\n",
       "   Dữ liệu Lịch sử DE827430_Cao  Dữ liệu Lịch sử DE827430_Thấp  \\\n",
       "0                         27.73                          27.47   \n",
       "1                         27.85                          27.71   \n",
       "2                         27.90                          27.85   \n",
       "3                         27.64                          27.40   \n",
       "4                         27.84                          27.56   \n",
       "\n",
       "   Dữ liệu Lịch sử DE827430_% Thay đổi  Dữ liệu Lịch sử DE918556_Lần cuối  \\\n",
       "0                                 0.25                             131.47   \n",
       "1                                 0.51                             131.26   \n",
       "2                                 0.22                             131.61   \n",
       "3                                -1.58                             131.38   \n",
       "4                                 1.50                             132.21   \n",
       "\n",
       "   Dữ liệu Lịch sử DE918556_Mở  Dữ liệu Lịch sử DE918556_Cao  \\\n",
       "0                       131.53                        132.07   \n",
       "1                       131.86                        131.86   \n",
       "2                       131.88                        131.88   \n",
       "3                       131.30                        131.71   \n",
       "4                       132.42                        132.68   \n",
       "\n",
       "   Dữ liệu Lịch sử DE918556_Thấp  Dữ liệu Lịch sử DE918556_% Thay đổi  \n",
       "0                         131.03                                 0.16  \n",
       "1                         131.09                                -0.16  \n",
       "2                         131.61                                 0.27  \n",
       "3                         131.25                                -0.17  \n",
       "4                         132.19                                 0.63  \n",
       "\n",
       "[5 rows x 52 columns]"
      ]
     },
     "execution_count": 6,
     "metadata": {},
     "output_type": "execute_result"
    }
   ],
   "source": [
    "df = pd.read_excel(\"C:/Coding/ds_stock_hub/KQ_ChungChi.xlsx\")\n",
    "df.head()"
   ]
  },
  {
   "cell_type": "code",
   "execution_count": null,
   "id": "d34a4357-ea72-44aa-a338-ee7b0dd212c3",
   "metadata": {},
   "outputs": [],
   "source": [
    "#rename columns by using regular expression in python\n",
    "def rename_columns(col):\n",
    "    col = col.replace(\"Ngày\",\"Date\")\n",
    "    col = col.replace(\"Dữ liệu Lịch sử \", \"\")\n",
    "    col = col.replace(\"Lần cuối\", \"Close\")\n",
    "    col = col.replace(\"Mở\", \"Open\")\n",
    "    col = col.replace(\"Cao\", \"High\")\n",
    "    col = col.replace(\"Thấp\", \"Low\")\n",
    "    col = col.replace(\"KL\", \"Volume\")\n",
    "    col = col.replace(\"% Thay đổi\", \"Change\")\n",
    "    return col.strip().replace(\" \", \"_\")\n",
    "\n",
    "df.columns = [rename_columns(c) for c in df.columns]\n",
    "df.head()"
   ]
  },
  {
   "cell_type": "markdown",
   "id": "bfb92726-88b7-4e95-b963-705603f81957",
   "metadata": {},
   "source": [
    "### 2. EXPLORATORY DATA ANALYSIS"
   ]
  },
  {
   "cell_type": "code",
   "execution_count": 9,
   "id": "0f08c4fc-660e-4c5a-bb29-7395dbc59101",
   "metadata": {},
   "outputs": [
    {
     "name": "stdout",
     "output_type": "stream",
     "text": [
      "<class 'pandas.core.frame.DataFrame'>\n",
      "RangeIndex: 22 entries, 0 to 21\n",
      "Data columns (total 52 columns):\n",
      " #   Column           Non-Null Count  Dtype         \n",
      "---  ------           --------------  -----         \n",
      " 0   Date             22 non-null     datetime64[ns]\n",
      " 1   CTG_Close        22 non-null     int64         \n",
      " 2   CTG_Open         22 non-null     int64         \n",
      " 3   CTG_High         22 non-null     int64         \n",
      " 4   CTG_Low          22 non-null     int64         \n",
      " 5   CTG_Volume       22 non-null     int64         \n",
      " 6   CTG_Change       22 non-null     float64       \n",
      " 7   DE571515_Close   22 non-null     float64       \n",
      " 8   DE571515_Open    22 non-null     float64       \n",
      " 9   DE571515_High    22 non-null     float64       \n",
      " 10  DE571515_Low     22 non-null     float64       \n",
      " 11  DE571515_Change  22 non-null     float64       \n",
      " 12  DE590603_Close   22 non-null     float64       \n",
      " 13  DE590603_Open    22 non-null     float64       \n",
      " 14  DE590603_High    22 non-null     float64       \n",
      " 15  DE590603_Low     22 non-null     float64       \n",
      " 16  DE590603_Change  22 non-null     float64       \n",
      " 17  DE685964_Close   22 non-null     float64       \n",
      " 18  DE685964_Open    22 non-null     float64       \n",
      " 19  DE685964_High    22 non-null     float64       \n",
      " 20  DE685964_Low     22 non-null     float64       \n",
      " 21  DE685964_Change  22 non-null     float64       \n",
      " 22  DE721791_Close   22 non-null     float64       \n",
      " 23  DE721791_Open    22 non-null     float64       \n",
      " 24  DE721791_High    22 non-null     float64       \n",
      " 25  DE721791_Low     22 non-null     float64       \n",
      " 26  DE721791_Change  22 non-null     float64       \n",
      " 27  DE721792_Close   22 non-null     float64       \n",
      " 28  DE721792_Open    22 non-null     float64       \n",
      " 29  DE721792_High    22 non-null     float64       \n",
      " 30  DE721792_Low     22 non-null     float64       \n",
      " 31  DE721792_Change  22 non-null     float64       \n",
      " 32  DE768918_Close   22 non-null     float64       \n",
      " 33  DE768918_Open    22 non-null     float64       \n",
      " 34  DE768918_High    22 non-null     float64       \n",
      " 35  DE768918_Low     22 non-null     float64       \n",
      " 36  DE768918_Change  22 non-null     float64       \n",
      " 37  DE815813_Close   22 non-null     float64       \n",
      " 38  DE815813_Open    22 non-null     float64       \n",
      " 39  DE815813_High    22 non-null     float64       \n",
      " 40  DE815813_Low     22 non-null     float64       \n",
      " 41  DE815813_Change  22 non-null     float64       \n",
      " 42  DE827430_Close   22 non-null     float64       \n",
      " 43  DE827430_Open    22 non-null     float64       \n",
      " 44  DE827430_High    22 non-null     float64       \n",
      " 45  DE827430_Low     22 non-null     float64       \n",
      " 46  DE827430_Change  22 non-null     float64       \n",
      " 47  DE918556_Close   22 non-null     float64       \n",
      " 48  DE918556_Open    22 non-null     float64       \n",
      " 49  DE918556_High    22 non-null     float64       \n",
      " 50  DE918556_Low     22 non-null     float64       \n",
      " 51  DE918556_Change  22 non-null     float64       \n",
      "dtypes: datetime64[ns](1), float64(46), int64(5)\n",
      "memory usage: 9.1 KB\n"
     ]
    },
    {
     "data": {
      "text/html": [
       "<div>\n",
       "<style scoped>\n",
       "    .dataframe tbody tr th:only-of-type {\n",
       "        vertical-align: middle;\n",
       "    }\n",
       "\n",
       "    .dataframe tbody tr th {\n",
       "        vertical-align: top;\n",
       "    }\n",
       "\n",
       "    .dataframe thead th {\n",
       "        text-align: right;\n",
       "    }\n",
       "</style>\n",
       "<table border=\"1\" class=\"dataframe\">\n",
       "  <thead>\n",
       "    <tr style=\"text-align: right;\">\n",
       "      <th></th>\n",
       "      <th>Date</th>\n",
       "      <th>CTG_Close</th>\n",
       "      <th>CTG_Open</th>\n",
       "      <th>CTG_High</th>\n",
       "      <th>CTG_Low</th>\n",
       "      <th>CTG_Volume</th>\n",
       "      <th>CTG_Change</th>\n",
       "      <th>DE571515_Close</th>\n",
       "      <th>DE571515_Open</th>\n",
       "      <th>DE571515_High</th>\n",
       "      <th>...</th>\n",
       "      <th>DE827430_Close</th>\n",
       "      <th>DE827430_Open</th>\n",
       "      <th>DE827430_High</th>\n",
       "      <th>DE827430_Low</th>\n",
       "      <th>DE827430_Change</th>\n",
       "      <th>DE918556_Close</th>\n",
       "      <th>DE918556_Open</th>\n",
       "      <th>DE918556_High</th>\n",
       "      <th>DE918556_Low</th>\n",
       "      <th>DE918556_Change</th>\n",
       "    </tr>\n",
       "  </thead>\n",
       "  <tbody>\n",
       "    <tr>\n",
       "      <th>count</th>\n",
       "      <td>22</td>\n",
       "      <td>22.000000</td>\n",
       "      <td>22.000000</td>\n",
       "      <td>22.000000</td>\n",
       "      <td>22.000000</td>\n",
       "      <td>2.200000e+01</td>\n",
       "      <td>22.000000</td>\n",
       "      <td>22.000000</td>\n",
       "      <td>22.000000</td>\n",
       "      <td>22.000000</td>\n",
       "      <td>...</td>\n",
       "      <td>22.000000</td>\n",
       "      <td>22.000000</td>\n",
       "      <td>22.000000</td>\n",
       "      <td>22.000000</td>\n",
       "      <td>22.000000</td>\n",
       "      <td>22.000000</td>\n",
       "      <td>22.000000</td>\n",
       "      <td>22.000000</td>\n",
       "      <td>22.000000</td>\n",
       "      <td>22.000000</td>\n",
       "    </tr>\n",
       "    <tr>\n",
       "      <th>mean</th>\n",
       "      <td>2025-09-02 09:49:05.454545408</td>\n",
       "      <td>50672.727273</td>\n",
       "      <td>50684.090909</td>\n",
       "      <td>51531.818182</td>\n",
       "      <td>49920.454545</td>\n",
       "      <td>1.215318e+07</td>\n",
       "      <td>0.207273</td>\n",
       "      <td>269.040455</td>\n",
       "      <td>268.993636</td>\n",
       "      <td>270.525455</td>\n",
       "      <td>...</td>\n",
       "      <td>26.894545</td>\n",
       "      <td>27.050455</td>\n",
       "      <td>27.145909</td>\n",
       "      <td>26.826364</td>\n",
       "      <td>-0.131364</td>\n",
       "      <td>131.946818</td>\n",
       "      <td>132.252727</td>\n",
       "      <td>132.447727</td>\n",
       "      <td>131.713182</td>\n",
       "      <td>0.012273</td>\n",
       "    </tr>\n",
       "    <tr>\n",
       "      <th>min</th>\n",
       "      <td>2025-08-18 00:00:00</td>\n",
       "      <td>48500.000000</td>\n",
       "      <td>48550.000000</td>\n",
       "      <td>49400.000000</td>\n",
       "      <td>48200.000000</td>\n",
       "      <td>1.890000e+06</td>\n",
       "      <td>-3.540000</td>\n",
       "      <td>258.690000</td>\n",
       "      <td>257.070000</td>\n",
       "      <td>259.070000</td>\n",
       "      <td>...</td>\n",
       "      <td>26.130000</td>\n",
       "      <td>26.280000</td>\n",
       "      <td>26.470000</td>\n",
       "      <td>26.080000</td>\n",
       "      <td>-1.580000</td>\n",
       "      <td>130.970000</td>\n",
       "      <td>131.060000</td>\n",
       "      <td>131.470000</td>\n",
       "      <td>130.700000</td>\n",
       "      <td>-0.670000</td>\n",
       "    </tr>\n",
       "    <tr>\n",
       "      <th>25%</th>\n",
       "      <td>2025-08-25 06:00:00</td>\n",
       "      <td>50325.000000</td>\n",
       "      <td>49737.500000</td>\n",
       "      <td>51200.000000</td>\n",
       "      <td>48900.000000</td>\n",
       "      <td>8.427500e+06</td>\n",
       "      <td>-1.275000</td>\n",
       "      <td>263.342500</td>\n",
       "      <td>261.635000</td>\n",
       "      <td>263.997500</td>\n",
       "      <td>...</td>\n",
       "      <td>26.347500</td>\n",
       "      <td>26.500000</td>\n",
       "      <td>26.647500</td>\n",
       "      <td>26.327500</td>\n",
       "      <td>-0.827500</td>\n",
       "      <td>131.492500</td>\n",
       "      <td>131.785000</td>\n",
       "      <td>131.935000</td>\n",
       "      <td>131.252500</td>\n",
       "      <td>-0.167500</td>\n",
       "    </tr>\n",
       "    <tr>\n",
       "      <th>50%</th>\n",
       "      <td>2025-09-03 12:00:00</td>\n",
       "      <td>50750.000000</td>\n",
       "      <td>50900.000000</td>\n",
       "      <td>51600.000000</td>\n",
       "      <td>50125.000000</td>\n",
       "      <td>1.187000e+07</td>\n",
       "      <td>0.000000</td>\n",
       "      <td>265.095000</td>\n",
       "      <td>266.075000</td>\n",
       "      <td>266.305000</td>\n",
       "      <td>...</td>\n",
       "      <td>26.630000</td>\n",
       "      <td>26.805000</td>\n",
       "      <td>26.860000</td>\n",
       "      <td>26.540000</td>\n",
       "      <td>0.035000</td>\n",
       "      <td>131.975000</td>\n",
       "      <td>132.315000</td>\n",
       "      <td>132.455000</td>\n",
       "      <td>131.575000</td>\n",
       "      <td>0.015000</td>\n",
       "    </tr>\n",
       "    <tr>\n",
       "      <th>75%</th>\n",
       "      <td>2025-09-10 18:00:00</td>\n",
       "      <td>51275.000000</td>\n",
       "      <td>51500.000000</td>\n",
       "      <td>51975.000000</td>\n",
       "      <td>50700.000000</td>\n",
       "      <td>1.547500e+07</td>\n",
       "      <td>1.792500</td>\n",
       "      <td>275.780000</td>\n",
       "      <td>274.835000</td>\n",
       "      <td>275.780000</td>\n",
       "      <td>...</td>\n",
       "      <td>27.510000</td>\n",
       "      <td>27.620000</td>\n",
       "      <td>27.717500</td>\n",
       "      <td>27.452500</td>\n",
       "      <td>0.450000</td>\n",
       "      <td>132.187500</td>\n",
       "      <td>132.540000</td>\n",
       "      <td>132.652500</td>\n",
       "      <td>132.065000</td>\n",
       "      <td>0.242500</td>\n",
       "    </tr>\n",
       "    <tr>\n",
       "      <th>max</th>\n",
       "      <td>2025-09-18 00:00:00</td>\n",
       "      <td>52500.000000</td>\n",
       "      <td>52500.000000</td>\n",
       "      <td>53400.000000</td>\n",
       "      <td>51800.000000</td>\n",
       "      <td>2.428000e+07</td>\n",
       "      <td>4.280000</td>\n",
       "      <td>286.530000</td>\n",
       "      <td>290.300000</td>\n",
       "      <td>290.300000</td>\n",
       "      <td>...</td>\n",
       "      <td>27.860000</td>\n",
       "      <td>28.000000</td>\n",
       "      <td>28.050000</td>\n",
       "      <td>27.850000</td>\n",
       "      <td>1.500000</td>\n",
       "      <td>133.330000</td>\n",
       "      <td>133.730000</td>\n",
       "      <td>133.730000</td>\n",
       "      <td>133.290000</td>\n",
       "      <td>0.630000</td>\n",
       "    </tr>\n",
       "    <tr>\n",
       "      <th>std</th>\n",
       "      <td>NaN</td>\n",
       "      <td>955.775336</td>\n",
       "      <td>1114.662704</td>\n",
       "      <td>1096.916181</td>\n",
       "      <td>1015.669975</td>\n",
       "      <td>4.975591e+06</td>\n",
       "      <td>1.877093</td>\n",
       "      <td>9.257859</td>\n",
       "      <td>10.146028</td>\n",
       "      <td>9.872798</td>\n",
       "      <td>...</td>\n",
       "      <td>0.646358</td>\n",
       "      <td>0.612858</td>\n",
       "      <td>0.582087</td>\n",
       "      <td>0.631586</td>\n",
       "      <td>0.846063</td>\n",
       "      <td>0.687323</td>\n",
       "      <td>0.670055</td>\n",
       "      <td>0.623820</td>\n",
       "      <td>0.664497</td>\n",
       "      <td>0.323654</td>\n",
       "    </tr>\n",
       "  </tbody>\n",
       "</table>\n",
       "<p>8 rows × 52 columns</p>\n",
       "</div>"
      ],
      "text/plain": [
       "                                Date     CTG_Close      CTG_Open  \\\n",
       "count                             22     22.000000     22.000000   \n",
       "mean   2025-09-02 09:49:05.454545408  50672.727273  50684.090909   \n",
       "min              2025-08-18 00:00:00  48500.000000  48550.000000   \n",
       "25%              2025-08-25 06:00:00  50325.000000  49737.500000   \n",
       "50%              2025-09-03 12:00:00  50750.000000  50900.000000   \n",
       "75%              2025-09-10 18:00:00  51275.000000  51500.000000   \n",
       "max              2025-09-18 00:00:00  52500.000000  52500.000000   \n",
       "std                              NaN    955.775336   1114.662704   \n",
       "\n",
       "           CTG_High       CTG_Low    CTG_Volume  CTG_Change  DE571515_Close  \\\n",
       "count     22.000000     22.000000  2.200000e+01   22.000000       22.000000   \n",
       "mean   51531.818182  49920.454545  1.215318e+07    0.207273      269.040455   \n",
       "min    49400.000000  48200.000000  1.890000e+06   -3.540000      258.690000   \n",
       "25%    51200.000000  48900.000000  8.427500e+06   -1.275000      263.342500   \n",
       "50%    51600.000000  50125.000000  1.187000e+07    0.000000      265.095000   \n",
       "75%    51975.000000  50700.000000  1.547500e+07    1.792500      275.780000   \n",
       "max    53400.000000  51800.000000  2.428000e+07    4.280000      286.530000   \n",
       "std     1096.916181   1015.669975  4.975591e+06    1.877093        9.257859   \n",
       "\n",
       "       DE571515_Open  DE571515_High  ...  DE827430_Close  DE827430_Open  \\\n",
       "count      22.000000      22.000000  ...       22.000000      22.000000   \n",
       "mean      268.993636     270.525455  ...       26.894545      27.050455   \n",
       "min       257.070000     259.070000  ...       26.130000      26.280000   \n",
       "25%       261.635000     263.997500  ...       26.347500      26.500000   \n",
       "50%       266.075000     266.305000  ...       26.630000      26.805000   \n",
       "75%       274.835000     275.780000  ...       27.510000      27.620000   \n",
       "max       290.300000     290.300000  ...       27.860000      28.000000   \n",
       "std        10.146028       9.872798  ...        0.646358       0.612858   \n",
       "\n",
       "       DE827430_High  DE827430_Low  DE827430_Change  DE918556_Close  \\\n",
       "count      22.000000     22.000000        22.000000       22.000000   \n",
       "mean       27.145909     26.826364        -0.131364      131.946818   \n",
       "min        26.470000     26.080000        -1.580000      130.970000   \n",
       "25%        26.647500     26.327500        -0.827500      131.492500   \n",
       "50%        26.860000     26.540000         0.035000      131.975000   \n",
       "75%        27.717500     27.452500         0.450000      132.187500   \n",
       "max        28.050000     27.850000         1.500000      133.330000   \n",
       "std         0.582087      0.631586         0.846063        0.687323   \n",
       "\n",
       "       DE918556_Open  DE918556_High  DE918556_Low  DE918556_Change  \n",
       "count      22.000000      22.000000     22.000000        22.000000  \n",
       "mean      132.252727     132.447727    131.713182         0.012273  \n",
       "min       131.060000     131.470000    130.700000        -0.670000  \n",
       "25%       131.785000     131.935000    131.252500        -0.167500  \n",
       "50%       132.315000     132.455000    131.575000         0.015000  \n",
       "75%       132.540000     132.652500    132.065000         0.242500  \n",
       "max       133.730000     133.730000    133.290000         0.630000  \n",
       "std         0.670055       0.623820      0.664497         0.323654  \n",
       "\n",
       "[8 rows x 52 columns]"
      ]
     },
     "execution_count": 9,
     "metadata": {},
     "output_type": "execute_result"
    }
   ],
   "source": [
    "df.info()\n",
    "df.describe()"
   ]
  },
  {
   "cell_type": "markdown",
   "id": "63095e17-109e-4e3a-ae54-1d14f17d9476",
   "metadata": {},
   "source": [
    "### 3. CHECKING MISSING VALUES AND FILLING IF MISSING"
   ]
  },
  {
   "cell_type": "code",
   "execution_count": 10,
   "id": "e6565f70-507c-48d2-93cb-e5fa3729b5dd",
   "metadata": {},
   "outputs": [
    {
     "data": {
      "text/html": [
       "<style type=\"text/css\">\n",
       "#T_5fa6f_row0_col1, #T_5fa6f_row0_col2, #T_5fa6f_row0_col3, #T_5fa6f_row0_col5, #T_5fa6f_row1_col1, #T_5fa6f_row1_col2, #T_5fa6f_row1_col3, #T_5fa6f_row1_col5, #T_5fa6f_row2_col1, #T_5fa6f_row2_col2, #T_5fa6f_row2_col3, #T_5fa6f_row2_col5, #T_5fa6f_row3_col1, #T_5fa6f_row3_col2, #T_5fa6f_row3_col3, #T_5fa6f_row3_col4, #T_5fa6f_row3_col5, #T_5fa6f_row4_col1, #T_5fa6f_row4_col2, #T_5fa6f_row4_col3, #T_5fa6f_row4_col5, #T_5fa6f_row5_col1, #T_5fa6f_row5_col2, #T_5fa6f_row5_col3, #T_5fa6f_row5_col5, #T_5fa6f_row6_col1, #T_5fa6f_row6_col2, #T_5fa6f_row6_col3, #T_5fa6f_row6_col5, #T_5fa6f_row7_col1, #T_5fa6f_row7_col2, #T_5fa6f_row7_col3, #T_5fa6f_row7_col5, #T_5fa6f_row8_col1, #T_5fa6f_row8_col2, #T_5fa6f_row8_col3, #T_5fa6f_row8_col5, #T_5fa6f_row9_col1, #T_5fa6f_row9_col2, #T_5fa6f_row9_col3, #T_5fa6f_row9_col5, #T_5fa6f_row10_col1, #T_5fa6f_row10_col2, #T_5fa6f_row10_col3, #T_5fa6f_row10_col5, #T_5fa6f_row11_col1, #T_5fa6f_row11_col2, #T_5fa6f_row11_col3, #T_5fa6f_row11_col5, #T_5fa6f_row12_col1, #T_5fa6f_row12_col2, #T_5fa6f_row12_col3, #T_5fa6f_row12_col5, #T_5fa6f_row13_col1, #T_5fa6f_row13_col2, #T_5fa6f_row13_col3, #T_5fa6f_row13_col5, #T_5fa6f_row14_col1, #T_5fa6f_row14_col2, #T_5fa6f_row14_col3, #T_5fa6f_row14_col5, #T_5fa6f_row15_col1, #T_5fa6f_row15_col2, #T_5fa6f_row15_col3, #T_5fa6f_row15_col5, #T_5fa6f_row16_col1, #T_5fa6f_row16_col2, #T_5fa6f_row16_col3, #T_5fa6f_row16_col5, #T_5fa6f_row17_col1, #T_5fa6f_row17_col2, #T_5fa6f_row17_col3, #T_5fa6f_row17_col5, #T_5fa6f_row18_col1, #T_5fa6f_row18_col2, #T_5fa6f_row18_col3, #T_5fa6f_row18_col5, #T_5fa6f_row19_col1, #T_5fa6f_row19_col2, #T_5fa6f_row19_col3, #T_5fa6f_row19_col5, #T_5fa6f_row20_col1, #T_5fa6f_row20_col2, #T_5fa6f_row20_col3, #T_5fa6f_row20_col5, #T_5fa6f_row21_col1, #T_5fa6f_row21_col2, #T_5fa6f_row21_col3, #T_5fa6f_row21_col5, #T_5fa6f_row22_col1, #T_5fa6f_row22_col2, #T_5fa6f_row22_col3, #T_5fa6f_row22_col5, #T_5fa6f_row23_col1, #T_5fa6f_row23_col2, #T_5fa6f_row23_col3, #T_5fa6f_row23_col5, #T_5fa6f_row24_col1, #T_5fa6f_row24_col2, #T_5fa6f_row24_col3, #T_5fa6f_row24_col5, #T_5fa6f_row25_col1, #T_5fa6f_row25_col2, #T_5fa6f_row25_col3, #T_5fa6f_row25_col5, #T_5fa6f_row26_col1, #T_5fa6f_row26_col2, #T_5fa6f_row26_col3, #T_5fa6f_row26_col5, #T_5fa6f_row27_col1, #T_5fa6f_row27_col2, #T_5fa6f_row27_col3, #T_5fa6f_row27_col5, #T_5fa6f_row28_col1, #T_5fa6f_row28_col2, #T_5fa6f_row28_col3, #T_5fa6f_row28_col5, #T_5fa6f_row29_col1, #T_5fa6f_row29_col2, #T_5fa6f_row29_col3, #T_5fa6f_row29_col5, #T_5fa6f_row30_col1, #T_5fa6f_row30_col2, #T_5fa6f_row30_col3, #T_5fa6f_row30_col5, #T_5fa6f_row31_col1, #T_5fa6f_row31_col2, #T_5fa6f_row31_col3, #T_5fa6f_row31_col5, #T_5fa6f_row32_col1, #T_5fa6f_row32_col2, #T_5fa6f_row32_col3, #T_5fa6f_row32_col5, #T_5fa6f_row33_col1, #T_5fa6f_row33_col2, #T_5fa6f_row33_col3, #T_5fa6f_row33_col5, #T_5fa6f_row34_col1, #T_5fa6f_row34_col2, #T_5fa6f_row34_col3, #T_5fa6f_row34_col5, #T_5fa6f_row35_col1, #T_5fa6f_row35_col2, #T_5fa6f_row35_col3, #T_5fa6f_row35_col5, #T_5fa6f_row36_col1, #T_5fa6f_row36_col2, #T_5fa6f_row36_col3, #T_5fa6f_row36_col5, #T_5fa6f_row37_col1, #T_5fa6f_row37_col2, #T_5fa6f_row37_col3, #T_5fa6f_row37_col5, #T_5fa6f_row38_col1, #T_5fa6f_row38_col2, #T_5fa6f_row38_col3, #T_5fa6f_row38_col5, #T_5fa6f_row39_col1, #T_5fa6f_row39_col2, #T_5fa6f_row39_col3, #T_5fa6f_row39_col5, #T_5fa6f_row40_col1, #T_5fa6f_row40_col2, #T_5fa6f_row40_col3, #T_5fa6f_row40_col5, #T_5fa6f_row41_col1, #T_5fa6f_row41_col2, #T_5fa6f_row41_col3, #T_5fa6f_row41_col5, #T_5fa6f_row42_col1, #T_5fa6f_row42_col2, #T_5fa6f_row42_col3, #T_5fa6f_row42_col5, #T_5fa6f_row43_col1, #T_5fa6f_row43_col2, #T_5fa6f_row43_col3, #T_5fa6f_row43_col5, #T_5fa6f_row44_col1, #T_5fa6f_row44_col2, #T_5fa6f_row44_col3, #T_5fa6f_row44_col5, #T_5fa6f_row45_col1, #T_5fa6f_row45_col2, #T_5fa6f_row45_col3, #T_5fa6f_row45_col5, #T_5fa6f_row46_col1, #T_5fa6f_row46_col2, #T_5fa6f_row46_col3, #T_5fa6f_row46_col5, #T_5fa6f_row47_col1, #T_5fa6f_row47_col2, #T_5fa6f_row47_col3, #T_5fa6f_row47_col5, #T_5fa6f_row48_col1, #T_5fa6f_row48_col2, #T_5fa6f_row48_col3, #T_5fa6f_row48_col5, #T_5fa6f_row49_col1, #T_5fa6f_row49_col2, #T_5fa6f_row49_col3, #T_5fa6f_row49_col5, #T_5fa6f_row50_col1, #T_5fa6f_row50_col2, #T_5fa6f_row50_col3, #T_5fa6f_row50_col5, #T_5fa6f_row51_col1, #T_5fa6f_row51_col2, #T_5fa6f_row51_col3, #T_5fa6f_row51_col5 {\n",
       "  background-color: #f7fbff;\n",
       "  color: #000000;\n",
       "}\n",
       "#T_5fa6f_row0_col4, #T_5fa6f_row5_col4 {\n",
       "  background-color: #08306b;\n",
       "  color: #f1f1f1;\n",
       "}\n",
       "#T_5fa6f_row1_col4, #T_5fa6f_row2_col4, #T_5fa6f_row12_col4, #T_5fa6f_row34_col4 {\n",
       "  background-color: #bad6eb;\n",
       "  color: #000000;\n",
       "}\n",
       "#T_5fa6f_row4_col4 {\n",
       "  background-color: #dbe9f6;\n",
       "  color: #000000;\n",
       "}\n",
       "#T_5fa6f_row6_col4, #T_5fa6f_row8_col4, #T_5fa6f_row16_col4, #T_5fa6f_row18_col4, #T_5fa6f_row20_col4, #T_5fa6f_row21_col4, #T_5fa6f_row26_col4, #T_5fa6f_row31_col4, #T_5fa6f_row32_col4, #T_5fa6f_row33_col4, #T_5fa6f_row36_col4, #T_5fa6f_row37_col4, #T_5fa6f_row38_col4, #T_5fa6f_row40_col4, #T_5fa6f_row43_col4, #T_5fa6f_row45_col4, #T_5fa6f_row46_col4 {\n",
       "  background-color: #2b7bba;\n",
       "  color: #f1f1f1;\n",
       "}\n",
       "#T_5fa6f_row7_col4, #T_5fa6f_row9_col4, #T_5fa6f_row10_col4, #T_5fa6f_row11_col4, #T_5fa6f_row17_col4, #T_5fa6f_row19_col4, #T_5fa6f_row22_col4, #T_5fa6f_row23_col4, #T_5fa6f_row24_col4, #T_5fa6f_row25_col4, #T_5fa6f_row27_col4, #T_5fa6f_row28_col4, #T_5fa6f_row29_col4, #T_5fa6f_row30_col4, #T_5fa6f_row39_col4, #T_5fa6f_row41_col4, #T_5fa6f_row47_col4, #T_5fa6f_row48_col4, #T_5fa6f_row49_col4, #T_5fa6f_row50_col4 {\n",
       "  background-color: #0b559f;\n",
       "  color: #f1f1f1;\n",
       "}\n",
       "#T_5fa6f_row13_col4, #T_5fa6f_row14_col4, #T_5fa6f_row15_col4, #T_5fa6f_row35_col4, #T_5fa6f_row42_col4, #T_5fa6f_row51_col4 {\n",
       "  background-color: #539ecd;\n",
       "  color: #f1f1f1;\n",
       "}\n",
       "#T_5fa6f_row44_col4 {\n",
       "  background-color: #89bedc;\n",
       "  color: #000000;\n",
       "}\n",
       "</style>\n",
       "<table id=\"T_5fa6f\">\n",
       "  <thead>\n",
       "    <tr>\n",
       "      <th class=\"blank level0\" >&nbsp;</th>\n",
       "      <th id=\"T_5fa6f_level0_col0\" class=\"col_heading level0 col0\" >dtype</th>\n",
       "      <th id=\"T_5fa6f_level0_col1\" class=\"col_heading level0 col1\" >missing</th>\n",
       "      <th id=\"T_5fa6f_level0_col2\" class=\"col_heading level0 col2\" >duplicates</th>\n",
       "      <th id=\"T_5fa6f_level0_col3\" class=\"col_heading level0 col3\" >missing_per</th>\n",
       "      <th id=\"T_5fa6f_level0_col4\" class=\"col_heading level0 col4\" >uniques</th>\n",
       "      <th id=\"T_5fa6f_level0_col5\" class=\"col_heading level0 col5\" >count</th>\n",
       "    </tr>\n",
       "  </thead>\n",
       "  <tbody>\n",
       "    <tr>\n",
       "      <th id=\"T_5fa6f_level0_row0\" class=\"row_heading level0 row0\" >Date</th>\n",
       "      <td id=\"T_5fa6f_row0_col0\" class=\"data row0 col0\" >datetime64[ns]</td>\n",
       "      <td id=\"T_5fa6f_row0_col1\" class=\"data row0 col1\" >0</td>\n",
       "      <td id=\"T_5fa6f_row0_col2\" class=\"data row0 col2\" >0</td>\n",
       "      <td id=\"T_5fa6f_row0_col3\" class=\"data row0 col3\" >0.000000</td>\n",
       "      <td id=\"T_5fa6f_row0_col4\" class=\"data row0 col4\" >22</td>\n",
       "      <td id=\"T_5fa6f_row0_col5\" class=\"data row0 col5\" >22</td>\n",
       "    </tr>\n",
       "    <tr>\n",
       "      <th id=\"T_5fa6f_level0_row1\" class=\"row_heading level0 row1\" >CTG_Close</th>\n",
       "      <td id=\"T_5fa6f_row1_col0\" class=\"data row1 col0\" >int64</td>\n",
       "      <td id=\"T_5fa6f_row1_col1\" class=\"data row1 col1\" >0</td>\n",
       "      <td id=\"T_5fa6f_row1_col2\" class=\"data row1 col2\" >0</td>\n",
       "      <td id=\"T_5fa6f_row1_col3\" class=\"data row1 col3\" >0.000000</td>\n",
       "      <td id=\"T_5fa6f_row1_col4\" class=\"data row1 col4\" >17</td>\n",
       "      <td id=\"T_5fa6f_row1_col5\" class=\"data row1 col5\" >22</td>\n",
       "    </tr>\n",
       "    <tr>\n",
       "      <th id=\"T_5fa6f_level0_row2\" class=\"row_heading level0 row2\" >CTG_Open</th>\n",
       "      <td id=\"T_5fa6f_row2_col0\" class=\"data row2 col0\" >int64</td>\n",
       "      <td id=\"T_5fa6f_row2_col1\" class=\"data row2 col1\" >0</td>\n",
       "      <td id=\"T_5fa6f_row2_col2\" class=\"data row2 col2\" >0</td>\n",
       "      <td id=\"T_5fa6f_row2_col3\" class=\"data row2 col3\" >0.000000</td>\n",
       "      <td id=\"T_5fa6f_row2_col4\" class=\"data row2 col4\" >17</td>\n",
       "      <td id=\"T_5fa6f_row2_col5\" class=\"data row2 col5\" >22</td>\n",
       "    </tr>\n",
       "    <tr>\n",
       "      <th id=\"T_5fa6f_level0_row3\" class=\"row_heading level0 row3\" >CTG_High</th>\n",
       "      <td id=\"T_5fa6f_row3_col0\" class=\"data row3 col0\" >int64</td>\n",
       "      <td id=\"T_5fa6f_row3_col1\" class=\"data row3 col1\" >0</td>\n",
       "      <td id=\"T_5fa6f_row3_col2\" class=\"data row3 col2\" >0</td>\n",
       "      <td id=\"T_5fa6f_row3_col3\" class=\"data row3 col3\" >0.000000</td>\n",
       "      <td id=\"T_5fa6f_row3_col4\" class=\"data row3 col4\" >15</td>\n",
       "      <td id=\"T_5fa6f_row3_col5\" class=\"data row3 col5\" >22</td>\n",
       "    </tr>\n",
       "    <tr>\n",
       "      <th id=\"T_5fa6f_level0_row4\" class=\"row_heading level0 row4\" >CTG_Low</th>\n",
       "      <td id=\"T_5fa6f_row4_col0\" class=\"data row4 col0\" >int64</td>\n",
       "      <td id=\"T_5fa6f_row4_col1\" class=\"data row4 col1\" >0</td>\n",
       "      <td id=\"T_5fa6f_row4_col2\" class=\"data row4 col2\" >0</td>\n",
       "      <td id=\"T_5fa6f_row4_col3\" class=\"data row4 col3\" >0.000000</td>\n",
       "      <td id=\"T_5fa6f_row4_col4\" class=\"data row4 col4\" >16</td>\n",
       "      <td id=\"T_5fa6f_row4_col5\" class=\"data row4 col5\" >22</td>\n",
       "    </tr>\n",
       "    <tr>\n",
       "      <th id=\"T_5fa6f_level0_row5\" class=\"row_heading level0 row5\" >CTG_Volume</th>\n",
       "      <td id=\"T_5fa6f_row5_col0\" class=\"data row5 col0\" >int64</td>\n",
       "      <td id=\"T_5fa6f_row5_col1\" class=\"data row5 col1\" >0</td>\n",
       "      <td id=\"T_5fa6f_row5_col2\" class=\"data row5 col2\" >0</td>\n",
       "      <td id=\"T_5fa6f_row5_col3\" class=\"data row5 col3\" >0.000000</td>\n",
       "      <td id=\"T_5fa6f_row5_col4\" class=\"data row5 col4\" >22</td>\n",
       "      <td id=\"T_5fa6f_row5_col5\" class=\"data row5 col5\" >22</td>\n",
       "    </tr>\n",
       "    <tr>\n",
       "      <th id=\"T_5fa6f_level0_row6\" class=\"row_heading level0 row6\" >CTG_Change</th>\n",
       "      <td id=\"T_5fa6f_row6_col0\" class=\"data row6 col0\" >float64</td>\n",
       "      <td id=\"T_5fa6f_row6_col1\" class=\"data row6 col1\" >0</td>\n",
       "      <td id=\"T_5fa6f_row6_col2\" class=\"data row6 col2\" >0</td>\n",
       "      <td id=\"T_5fa6f_row6_col3\" class=\"data row6 col3\" >0.000000</td>\n",
       "      <td id=\"T_5fa6f_row6_col4\" class=\"data row6 col4\" >20</td>\n",
       "      <td id=\"T_5fa6f_row6_col5\" class=\"data row6 col5\" >22</td>\n",
       "    </tr>\n",
       "    <tr>\n",
       "      <th id=\"T_5fa6f_level0_row7\" class=\"row_heading level0 row7\" >DE571515_Close</th>\n",
       "      <td id=\"T_5fa6f_row7_col0\" class=\"data row7 col0\" >float64</td>\n",
       "      <td id=\"T_5fa6f_row7_col1\" class=\"data row7 col1\" >0</td>\n",
       "      <td id=\"T_5fa6f_row7_col2\" class=\"data row7 col2\" >0</td>\n",
       "      <td id=\"T_5fa6f_row7_col3\" class=\"data row7 col3\" >0.000000</td>\n",
       "      <td id=\"T_5fa6f_row7_col4\" class=\"data row7 col4\" >21</td>\n",
       "      <td id=\"T_5fa6f_row7_col5\" class=\"data row7 col5\" >22</td>\n",
       "    </tr>\n",
       "    <tr>\n",
       "      <th id=\"T_5fa6f_level0_row8\" class=\"row_heading level0 row8\" >DE571515_Open</th>\n",
       "      <td id=\"T_5fa6f_row8_col0\" class=\"data row8 col0\" >float64</td>\n",
       "      <td id=\"T_5fa6f_row8_col1\" class=\"data row8 col1\" >0</td>\n",
       "      <td id=\"T_5fa6f_row8_col2\" class=\"data row8 col2\" >0</td>\n",
       "      <td id=\"T_5fa6f_row8_col3\" class=\"data row8 col3\" >0.000000</td>\n",
       "      <td id=\"T_5fa6f_row8_col4\" class=\"data row8 col4\" >20</td>\n",
       "      <td id=\"T_5fa6f_row8_col5\" class=\"data row8 col5\" >22</td>\n",
       "    </tr>\n",
       "    <tr>\n",
       "      <th id=\"T_5fa6f_level0_row9\" class=\"row_heading level0 row9\" >DE571515_High</th>\n",
       "      <td id=\"T_5fa6f_row9_col0\" class=\"data row9 col0\" >float64</td>\n",
       "      <td id=\"T_5fa6f_row9_col1\" class=\"data row9 col1\" >0</td>\n",
       "      <td id=\"T_5fa6f_row9_col2\" class=\"data row9 col2\" >0</td>\n",
       "      <td id=\"T_5fa6f_row9_col3\" class=\"data row9 col3\" >0.000000</td>\n",
       "      <td id=\"T_5fa6f_row9_col4\" class=\"data row9 col4\" >21</td>\n",
       "      <td id=\"T_5fa6f_row9_col5\" class=\"data row9 col5\" >22</td>\n",
       "    </tr>\n",
       "    <tr>\n",
       "      <th id=\"T_5fa6f_level0_row10\" class=\"row_heading level0 row10\" >DE571515_Low</th>\n",
       "      <td id=\"T_5fa6f_row10_col0\" class=\"data row10 col0\" >float64</td>\n",
       "      <td id=\"T_5fa6f_row10_col1\" class=\"data row10 col1\" >0</td>\n",
       "      <td id=\"T_5fa6f_row10_col2\" class=\"data row10 col2\" >0</td>\n",
       "      <td id=\"T_5fa6f_row10_col3\" class=\"data row10 col3\" >0.000000</td>\n",
       "      <td id=\"T_5fa6f_row10_col4\" class=\"data row10 col4\" >21</td>\n",
       "      <td id=\"T_5fa6f_row10_col5\" class=\"data row10 col5\" >22</td>\n",
       "    </tr>\n",
       "    <tr>\n",
       "      <th id=\"T_5fa6f_level0_row11\" class=\"row_heading level0 row11\" >DE571515_Change</th>\n",
       "      <td id=\"T_5fa6f_row11_col0\" class=\"data row11 col0\" >float64</td>\n",
       "      <td id=\"T_5fa6f_row11_col1\" class=\"data row11 col1\" >0</td>\n",
       "      <td id=\"T_5fa6f_row11_col2\" class=\"data row11 col2\" >0</td>\n",
       "      <td id=\"T_5fa6f_row11_col3\" class=\"data row11 col3\" >0.000000</td>\n",
       "      <td id=\"T_5fa6f_row11_col4\" class=\"data row11 col4\" >21</td>\n",
       "      <td id=\"T_5fa6f_row11_col5\" class=\"data row11 col5\" >22</td>\n",
       "    </tr>\n",
       "    <tr>\n",
       "      <th id=\"T_5fa6f_level0_row12\" class=\"row_heading level0 row12\" >DE590603_Close</th>\n",
       "      <td id=\"T_5fa6f_row12_col0\" class=\"data row12 col0\" >float64</td>\n",
       "      <td id=\"T_5fa6f_row12_col1\" class=\"data row12 col1\" >0</td>\n",
       "      <td id=\"T_5fa6f_row12_col2\" class=\"data row12 col2\" >0</td>\n",
       "      <td id=\"T_5fa6f_row12_col3\" class=\"data row12 col3\" >0.000000</td>\n",
       "      <td id=\"T_5fa6f_row12_col4\" class=\"data row12 col4\" >17</td>\n",
       "      <td id=\"T_5fa6f_row12_col5\" class=\"data row12 col5\" >22</td>\n",
       "    </tr>\n",
       "    <tr>\n",
       "      <th id=\"T_5fa6f_level0_row13\" class=\"row_heading level0 row13\" >DE590603_Open</th>\n",
       "      <td id=\"T_5fa6f_row13_col0\" class=\"data row13 col0\" >float64</td>\n",
       "      <td id=\"T_5fa6f_row13_col1\" class=\"data row13 col1\" >0</td>\n",
       "      <td id=\"T_5fa6f_row13_col2\" class=\"data row13 col2\" >0</td>\n",
       "      <td id=\"T_5fa6f_row13_col3\" class=\"data row13 col3\" >0.000000</td>\n",
       "      <td id=\"T_5fa6f_row13_col4\" class=\"data row13 col4\" >19</td>\n",
       "      <td id=\"T_5fa6f_row13_col5\" class=\"data row13 col5\" >22</td>\n",
       "    </tr>\n",
       "    <tr>\n",
       "      <th id=\"T_5fa6f_level0_row14\" class=\"row_heading level0 row14\" >DE590603_High</th>\n",
       "      <td id=\"T_5fa6f_row14_col0\" class=\"data row14 col0\" >float64</td>\n",
       "      <td id=\"T_5fa6f_row14_col1\" class=\"data row14 col1\" >0</td>\n",
       "      <td id=\"T_5fa6f_row14_col2\" class=\"data row14 col2\" >0</td>\n",
       "      <td id=\"T_5fa6f_row14_col3\" class=\"data row14 col3\" >0.000000</td>\n",
       "      <td id=\"T_5fa6f_row14_col4\" class=\"data row14 col4\" >19</td>\n",
       "      <td id=\"T_5fa6f_row14_col5\" class=\"data row14 col5\" >22</td>\n",
       "    </tr>\n",
       "    <tr>\n",
       "      <th id=\"T_5fa6f_level0_row15\" class=\"row_heading level0 row15\" >DE590603_Low</th>\n",
       "      <td id=\"T_5fa6f_row15_col0\" class=\"data row15 col0\" >float64</td>\n",
       "      <td id=\"T_5fa6f_row15_col1\" class=\"data row15 col1\" >0</td>\n",
       "      <td id=\"T_5fa6f_row15_col2\" class=\"data row15 col2\" >0</td>\n",
       "      <td id=\"T_5fa6f_row15_col3\" class=\"data row15 col3\" >0.000000</td>\n",
       "      <td id=\"T_5fa6f_row15_col4\" class=\"data row15 col4\" >19</td>\n",
       "      <td id=\"T_5fa6f_row15_col5\" class=\"data row15 col5\" >22</td>\n",
       "    </tr>\n",
       "    <tr>\n",
       "      <th id=\"T_5fa6f_level0_row16\" class=\"row_heading level0 row16\" >DE590603_Change</th>\n",
       "      <td id=\"T_5fa6f_row16_col0\" class=\"data row16 col0\" >float64</td>\n",
       "      <td id=\"T_5fa6f_row16_col1\" class=\"data row16 col1\" >0</td>\n",
       "      <td id=\"T_5fa6f_row16_col2\" class=\"data row16 col2\" >0</td>\n",
       "      <td id=\"T_5fa6f_row16_col3\" class=\"data row16 col3\" >0.000000</td>\n",
       "      <td id=\"T_5fa6f_row16_col4\" class=\"data row16 col4\" >20</td>\n",
       "      <td id=\"T_5fa6f_row16_col5\" class=\"data row16 col5\" >22</td>\n",
       "    </tr>\n",
       "    <tr>\n",
       "      <th id=\"T_5fa6f_level0_row17\" class=\"row_heading level0 row17\" >DE685964_Close</th>\n",
       "      <td id=\"T_5fa6f_row17_col0\" class=\"data row17 col0\" >float64</td>\n",
       "      <td id=\"T_5fa6f_row17_col1\" class=\"data row17 col1\" >0</td>\n",
       "      <td id=\"T_5fa6f_row17_col2\" class=\"data row17 col2\" >0</td>\n",
       "      <td id=\"T_5fa6f_row17_col3\" class=\"data row17 col3\" >0.000000</td>\n",
       "      <td id=\"T_5fa6f_row17_col4\" class=\"data row17 col4\" >21</td>\n",
       "      <td id=\"T_5fa6f_row17_col5\" class=\"data row17 col5\" >22</td>\n",
       "    </tr>\n",
       "    <tr>\n",
       "      <th id=\"T_5fa6f_level0_row18\" class=\"row_heading level0 row18\" >DE685964_Open</th>\n",
       "      <td id=\"T_5fa6f_row18_col0\" class=\"data row18 col0\" >float64</td>\n",
       "      <td id=\"T_5fa6f_row18_col1\" class=\"data row18 col1\" >0</td>\n",
       "      <td id=\"T_5fa6f_row18_col2\" class=\"data row18 col2\" >0</td>\n",
       "      <td id=\"T_5fa6f_row18_col3\" class=\"data row18 col3\" >0.000000</td>\n",
       "      <td id=\"T_5fa6f_row18_col4\" class=\"data row18 col4\" >20</td>\n",
       "      <td id=\"T_5fa6f_row18_col5\" class=\"data row18 col5\" >22</td>\n",
       "    </tr>\n",
       "    <tr>\n",
       "      <th id=\"T_5fa6f_level0_row19\" class=\"row_heading level0 row19\" >DE685964_High</th>\n",
       "      <td id=\"T_5fa6f_row19_col0\" class=\"data row19 col0\" >float64</td>\n",
       "      <td id=\"T_5fa6f_row19_col1\" class=\"data row19 col1\" >0</td>\n",
       "      <td id=\"T_5fa6f_row19_col2\" class=\"data row19 col2\" >0</td>\n",
       "      <td id=\"T_5fa6f_row19_col3\" class=\"data row19 col3\" >0.000000</td>\n",
       "      <td id=\"T_5fa6f_row19_col4\" class=\"data row19 col4\" >21</td>\n",
       "      <td id=\"T_5fa6f_row19_col5\" class=\"data row19 col5\" >22</td>\n",
       "    </tr>\n",
       "    <tr>\n",
       "      <th id=\"T_5fa6f_level0_row20\" class=\"row_heading level0 row20\" >DE685964_Low</th>\n",
       "      <td id=\"T_5fa6f_row20_col0\" class=\"data row20 col0\" >float64</td>\n",
       "      <td id=\"T_5fa6f_row20_col1\" class=\"data row20 col1\" >0</td>\n",
       "      <td id=\"T_5fa6f_row20_col2\" class=\"data row20 col2\" >0</td>\n",
       "      <td id=\"T_5fa6f_row20_col3\" class=\"data row20 col3\" >0.000000</td>\n",
       "      <td id=\"T_5fa6f_row20_col4\" class=\"data row20 col4\" >20</td>\n",
       "      <td id=\"T_5fa6f_row20_col5\" class=\"data row20 col5\" >22</td>\n",
       "    </tr>\n",
       "    <tr>\n",
       "      <th id=\"T_5fa6f_level0_row21\" class=\"row_heading level0 row21\" >DE685964_Change</th>\n",
       "      <td id=\"T_5fa6f_row21_col0\" class=\"data row21 col0\" >float64</td>\n",
       "      <td id=\"T_5fa6f_row21_col1\" class=\"data row21 col1\" >0</td>\n",
       "      <td id=\"T_5fa6f_row21_col2\" class=\"data row21 col2\" >0</td>\n",
       "      <td id=\"T_5fa6f_row21_col3\" class=\"data row21 col3\" >0.000000</td>\n",
       "      <td id=\"T_5fa6f_row21_col4\" class=\"data row21 col4\" >20</td>\n",
       "      <td id=\"T_5fa6f_row21_col5\" class=\"data row21 col5\" >22</td>\n",
       "    </tr>\n",
       "    <tr>\n",
       "      <th id=\"T_5fa6f_level0_row22\" class=\"row_heading level0 row22\" >DE721791_Close</th>\n",
       "      <td id=\"T_5fa6f_row22_col0\" class=\"data row22 col0\" >float64</td>\n",
       "      <td id=\"T_5fa6f_row22_col1\" class=\"data row22 col1\" >0</td>\n",
       "      <td id=\"T_5fa6f_row22_col2\" class=\"data row22 col2\" >0</td>\n",
       "      <td id=\"T_5fa6f_row22_col3\" class=\"data row22 col3\" >0.000000</td>\n",
       "      <td id=\"T_5fa6f_row22_col4\" class=\"data row22 col4\" >21</td>\n",
       "      <td id=\"T_5fa6f_row22_col5\" class=\"data row22 col5\" >22</td>\n",
       "    </tr>\n",
       "    <tr>\n",
       "      <th id=\"T_5fa6f_level0_row23\" class=\"row_heading level0 row23\" >DE721791_Open</th>\n",
       "      <td id=\"T_5fa6f_row23_col0\" class=\"data row23 col0\" >float64</td>\n",
       "      <td id=\"T_5fa6f_row23_col1\" class=\"data row23 col1\" >0</td>\n",
       "      <td id=\"T_5fa6f_row23_col2\" class=\"data row23 col2\" >0</td>\n",
       "      <td id=\"T_5fa6f_row23_col3\" class=\"data row23 col3\" >0.000000</td>\n",
       "      <td id=\"T_5fa6f_row23_col4\" class=\"data row23 col4\" >21</td>\n",
       "      <td id=\"T_5fa6f_row23_col5\" class=\"data row23 col5\" >22</td>\n",
       "    </tr>\n",
       "    <tr>\n",
       "      <th id=\"T_5fa6f_level0_row24\" class=\"row_heading level0 row24\" >DE721791_High</th>\n",
       "      <td id=\"T_5fa6f_row24_col0\" class=\"data row24 col0\" >float64</td>\n",
       "      <td id=\"T_5fa6f_row24_col1\" class=\"data row24 col1\" >0</td>\n",
       "      <td id=\"T_5fa6f_row24_col2\" class=\"data row24 col2\" >0</td>\n",
       "      <td id=\"T_5fa6f_row24_col3\" class=\"data row24 col3\" >0.000000</td>\n",
       "      <td id=\"T_5fa6f_row24_col4\" class=\"data row24 col4\" >21</td>\n",
       "      <td id=\"T_5fa6f_row24_col5\" class=\"data row24 col5\" >22</td>\n",
       "    </tr>\n",
       "    <tr>\n",
       "      <th id=\"T_5fa6f_level0_row25\" class=\"row_heading level0 row25\" >DE721791_Low</th>\n",
       "      <td id=\"T_5fa6f_row25_col0\" class=\"data row25 col0\" >float64</td>\n",
       "      <td id=\"T_5fa6f_row25_col1\" class=\"data row25 col1\" >0</td>\n",
       "      <td id=\"T_5fa6f_row25_col2\" class=\"data row25 col2\" >0</td>\n",
       "      <td id=\"T_5fa6f_row25_col3\" class=\"data row25 col3\" >0.000000</td>\n",
       "      <td id=\"T_5fa6f_row25_col4\" class=\"data row25 col4\" >21</td>\n",
       "      <td id=\"T_5fa6f_row25_col5\" class=\"data row25 col5\" >22</td>\n",
       "    </tr>\n",
       "    <tr>\n",
       "      <th id=\"T_5fa6f_level0_row26\" class=\"row_heading level0 row26\" >DE721791_Change</th>\n",
       "      <td id=\"T_5fa6f_row26_col0\" class=\"data row26 col0\" >float64</td>\n",
       "      <td id=\"T_5fa6f_row26_col1\" class=\"data row26 col1\" >0</td>\n",
       "      <td id=\"T_5fa6f_row26_col2\" class=\"data row26 col2\" >0</td>\n",
       "      <td id=\"T_5fa6f_row26_col3\" class=\"data row26 col3\" >0.000000</td>\n",
       "      <td id=\"T_5fa6f_row26_col4\" class=\"data row26 col4\" >20</td>\n",
       "      <td id=\"T_5fa6f_row26_col5\" class=\"data row26 col5\" >22</td>\n",
       "    </tr>\n",
       "    <tr>\n",
       "      <th id=\"T_5fa6f_level0_row27\" class=\"row_heading level0 row27\" >DE721792_Close</th>\n",
       "      <td id=\"T_5fa6f_row27_col0\" class=\"data row27 col0\" >float64</td>\n",
       "      <td id=\"T_5fa6f_row27_col1\" class=\"data row27 col1\" >0</td>\n",
       "      <td id=\"T_5fa6f_row27_col2\" class=\"data row27 col2\" >0</td>\n",
       "      <td id=\"T_5fa6f_row27_col3\" class=\"data row27 col3\" >0.000000</td>\n",
       "      <td id=\"T_5fa6f_row27_col4\" class=\"data row27 col4\" >21</td>\n",
       "      <td id=\"T_5fa6f_row27_col5\" class=\"data row27 col5\" >22</td>\n",
       "    </tr>\n",
       "    <tr>\n",
       "      <th id=\"T_5fa6f_level0_row28\" class=\"row_heading level0 row28\" >DE721792_Open</th>\n",
       "      <td id=\"T_5fa6f_row28_col0\" class=\"data row28 col0\" >float64</td>\n",
       "      <td id=\"T_5fa6f_row28_col1\" class=\"data row28 col1\" >0</td>\n",
       "      <td id=\"T_5fa6f_row28_col2\" class=\"data row28 col2\" >0</td>\n",
       "      <td id=\"T_5fa6f_row28_col3\" class=\"data row28 col3\" >0.000000</td>\n",
       "      <td id=\"T_5fa6f_row28_col4\" class=\"data row28 col4\" >21</td>\n",
       "      <td id=\"T_5fa6f_row28_col5\" class=\"data row28 col5\" >22</td>\n",
       "    </tr>\n",
       "    <tr>\n",
       "      <th id=\"T_5fa6f_level0_row29\" class=\"row_heading level0 row29\" >DE721792_High</th>\n",
       "      <td id=\"T_5fa6f_row29_col0\" class=\"data row29 col0\" >float64</td>\n",
       "      <td id=\"T_5fa6f_row29_col1\" class=\"data row29 col1\" >0</td>\n",
       "      <td id=\"T_5fa6f_row29_col2\" class=\"data row29 col2\" >0</td>\n",
       "      <td id=\"T_5fa6f_row29_col3\" class=\"data row29 col3\" >0.000000</td>\n",
       "      <td id=\"T_5fa6f_row29_col4\" class=\"data row29 col4\" >21</td>\n",
       "      <td id=\"T_5fa6f_row29_col5\" class=\"data row29 col5\" >22</td>\n",
       "    </tr>\n",
       "    <tr>\n",
       "      <th id=\"T_5fa6f_level0_row30\" class=\"row_heading level0 row30\" >DE721792_Low</th>\n",
       "      <td id=\"T_5fa6f_row30_col0\" class=\"data row30 col0\" >float64</td>\n",
       "      <td id=\"T_5fa6f_row30_col1\" class=\"data row30 col1\" >0</td>\n",
       "      <td id=\"T_5fa6f_row30_col2\" class=\"data row30 col2\" >0</td>\n",
       "      <td id=\"T_5fa6f_row30_col3\" class=\"data row30 col3\" >0.000000</td>\n",
       "      <td id=\"T_5fa6f_row30_col4\" class=\"data row30 col4\" >21</td>\n",
       "      <td id=\"T_5fa6f_row30_col5\" class=\"data row30 col5\" >22</td>\n",
       "    </tr>\n",
       "    <tr>\n",
       "      <th id=\"T_5fa6f_level0_row31\" class=\"row_heading level0 row31\" >DE721792_Change</th>\n",
       "      <td id=\"T_5fa6f_row31_col0\" class=\"data row31 col0\" >float64</td>\n",
       "      <td id=\"T_5fa6f_row31_col1\" class=\"data row31 col1\" >0</td>\n",
       "      <td id=\"T_5fa6f_row31_col2\" class=\"data row31 col2\" >0</td>\n",
       "      <td id=\"T_5fa6f_row31_col3\" class=\"data row31 col3\" >0.000000</td>\n",
       "      <td id=\"T_5fa6f_row31_col4\" class=\"data row31 col4\" >20</td>\n",
       "      <td id=\"T_5fa6f_row31_col5\" class=\"data row31 col5\" >22</td>\n",
       "    </tr>\n",
       "    <tr>\n",
       "      <th id=\"T_5fa6f_level0_row32\" class=\"row_heading level0 row32\" >DE768918_Close</th>\n",
       "      <td id=\"T_5fa6f_row32_col0\" class=\"data row32 col0\" >float64</td>\n",
       "      <td id=\"T_5fa6f_row32_col1\" class=\"data row32 col1\" >0</td>\n",
       "      <td id=\"T_5fa6f_row32_col2\" class=\"data row32 col2\" >0</td>\n",
       "      <td id=\"T_5fa6f_row32_col3\" class=\"data row32 col3\" >0.000000</td>\n",
       "      <td id=\"T_5fa6f_row32_col4\" class=\"data row32 col4\" >20</td>\n",
       "      <td id=\"T_5fa6f_row32_col5\" class=\"data row32 col5\" >22</td>\n",
       "    </tr>\n",
       "    <tr>\n",
       "      <th id=\"T_5fa6f_level0_row33\" class=\"row_heading level0 row33\" >DE768918_Open</th>\n",
       "      <td id=\"T_5fa6f_row33_col0\" class=\"data row33 col0\" >float64</td>\n",
       "      <td id=\"T_5fa6f_row33_col1\" class=\"data row33 col1\" >0</td>\n",
       "      <td id=\"T_5fa6f_row33_col2\" class=\"data row33 col2\" >0</td>\n",
       "      <td id=\"T_5fa6f_row33_col3\" class=\"data row33 col3\" >0.000000</td>\n",
       "      <td id=\"T_5fa6f_row33_col4\" class=\"data row33 col4\" >20</td>\n",
       "      <td id=\"T_5fa6f_row33_col5\" class=\"data row33 col5\" >22</td>\n",
       "    </tr>\n",
       "    <tr>\n",
       "      <th id=\"T_5fa6f_level0_row34\" class=\"row_heading level0 row34\" >DE768918_High</th>\n",
       "      <td id=\"T_5fa6f_row34_col0\" class=\"data row34 col0\" >float64</td>\n",
       "      <td id=\"T_5fa6f_row34_col1\" class=\"data row34 col1\" >0</td>\n",
       "      <td id=\"T_5fa6f_row34_col2\" class=\"data row34 col2\" >0</td>\n",
       "      <td id=\"T_5fa6f_row34_col3\" class=\"data row34 col3\" >0.000000</td>\n",
       "      <td id=\"T_5fa6f_row34_col4\" class=\"data row34 col4\" >17</td>\n",
       "      <td id=\"T_5fa6f_row34_col5\" class=\"data row34 col5\" >22</td>\n",
       "    </tr>\n",
       "    <tr>\n",
       "      <th id=\"T_5fa6f_level0_row35\" class=\"row_heading level0 row35\" >DE768918_Low</th>\n",
       "      <td id=\"T_5fa6f_row35_col0\" class=\"data row35 col0\" >float64</td>\n",
       "      <td id=\"T_5fa6f_row35_col1\" class=\"data row35 col1\" >0</td>\n",
       "      <td id=\"T_5fa6f_row35_col2\" class=\"data row35 col2\" >0</td>\n",
       "      <td id=\"T_5fa6f_row35_col3\" class=\"data row35 col3\" >0.000000</td>\n",
       "      <td id=\"T_5fa6f_row35_col4\" class=\"data row35 col4\" >19</td>\n",
       "      <td id=\"T_5fa6f_row35_col5\" class=\"data row35 col5\" >22</td>\n",
       "    </tr>\n",
       "    <tr>\n",
       "      <th id=\"T_5fa6f_level0_row36\" class=\"row_heading level0 row36\" >DE768918_Change</th>\n",
       "      <td id=\"T_5fa6f_row36_col0\" class=\"data row36 col0\" >float64</td>\n",
       "      <td id=\"T_5fa6f_row36_col1\" class=\"data row36 col1\" >0</td>\n",
       "      <td id=\"T_5fa6f_row36_col2\" class=\"data row36 col2\" >0</td>\n",
       "      <td id=\"T_5fa6f_row36_col3\" class=\"data row36 col3\" >0.000000</td>\n",
       "      <td id=\"T_5fa6f_row36_col4\" class=\"data row36 col4\" >20</td>\n",
       "      <td id=\"T_5fa6f_row36_col5\" class=\"data row36 col5\" >22</td>\n",
       "    </tr>\n",
       "    <tr>\n",
       "      <th id=\"T_5fa6f_level0_row37\" class=\"row_heading level0 row37\" >DE815813_Close</th>\n",
       "      <td id=\"T_5fa6f_row37_col0\" class=\"data row37 col0\" >float64</td>\n",
       "      <td id=\"T_5fa6f_row37_col1\" class=\"data row37 col1\" >0</td>\n",
       "      <td id=\"T_5fa6f_row37_col2\" class=\"data row37 col2\" >0</td>\n",
       "      <td id=\"T_5fa6f_row37_col3\" class=\"data row37 col3\" >0.000000</td>\n",
       "      <td id=\"T_5fa6f_row37_col4\" class=\"data row37 col4\" >20</td>\n",
       "      <td id=\"T_5fa6f_row37_col5\" class=\"data row37 col5\" >22</td>\n",
       "    </tr>\n",
       "    <tr>\n",
       "      <th id=\"T_5fa6f_level0_row38\" class=\"row_heading level0 row38\" >DE815813_Open</th>\n",
       "      <td id=\"T_5fa6f_row38_col0\" class=\"data row38 col0\" >float64</td>\n",
       "      <td id=\"T_5fa6f_row38_col1\" class=\"data row38 col1\" >0</td>\n",
       "      <td id=\"T_5fa6f_row38_col2\" class=\"data row38 col2\" >0</td>\n",
       "      <td id=\"T_5fa6f_row38_col3\" class=\"data row38 col3\" >0.000000</td>\n",
       "      <td id=\"T_5fa6f_row38_col4\" class=\"data row38 col4\" >20</td>\n",
       "      <td id=\"T_5fa6f_row38_col5\" class=\"data row38 col5\" >22</td>\n",
       "    </tr>\n",
       "    <tr>\n",
       "      <th id=\"T_5fa6f_level0_row39\" class=\"row_heading level0 row39\" >DE815813_High</th>\n",
       "      <td id=\"T_5fa6f_row39_col0\" class=\"data row39 col0\" >float64</td>\n",
       "      <td id=\"T_5fa6f_row39_col1\" class=\"data row39 col1\" >0</td>\n",
       "      <td id=\"T_5fa6f_row39_col2\" class=\"data row39 col2\" >0</td>\n",
       "      <td id=\"T_5fa6f_row39_col3\" class=\"data row39 col3\" >0.000000</td>\n",
       "      <td id=\"T_5fa6f_row39_col4\" class=\"data row39 col4\" >21</td>\n",
       "      <td id=\"T_5fa6f_row39_col5\" class=\"data row39 col5\" >22</td>\n",
       "    </tr>\n",
       "    <tr>\n",
       "      <th id=\"T_5fa6f_level0_row40\" class=\"row_heading level0 row40\" >DE815813_Low</th>\n",
       "      <td id=\"T_5fa6f_row40_col0\" class=\"data row40 col0\" >float64</td>\n",
       "      <td id=\"T_5fa6f_row40_col1\" class=\"data row40 col1\" >0</td>\n",
       "      <td id=\"T_5fa6f_row40_col2\" class=\"data row40 col2\" >0</td>\n",
       "      <td id=\"T_5fa6f_row40_col3\" class=\"data row40 col3\" >0.000000</td>\n",
       "      <td id=\"T_5fa6f_row40_col4\" class=\"data row40 col4\" >20</td>\n",
       "      <td id=\"T_5fa6f_row40_col5\" class=\"data row40 col5\" >22</td>\n",
       "    </tr>\n",
       "    <tr>\n",
       "      <th id=\"T_5fa6f_level0_row41\" class=\"row_heading level0 row41\" >DE815813_Change</th>\n",
       "      <td id=\"T_5fa6f_row41_col0\" class=\"data row41 col0\" >float64</td>\n",
       "      <td id=\"T_5fa6f_row41_col1\" class=\"data row41 col1\" >0</td>\n",
       "      <td id=\"T_5fa6f_row41_col2\" class=\"data row41 col2\" >0</td>\n",
       "      <td id=\"T_5fa6f_row41_col3\" class=\"data row41 col3\" >0.000000</td>\n",
       "      <td id=\"T_5fa6f_row41_col4\" class=\"data row41 col4\" >21</td>\n",
       "      <td id=\"T_5fa6f_row41_col5\" class=\"data row41 col5\" >22</td>\n",
       "    </tr>\n",
       "    <tr>\n",
       "      <th id=\"T_5fa6f_level0_row42\" class=\"row_heading level0 row42\" >DE827430_Close</th>\n",
       "      <td id=\"T_5fa6f_row42_col0\" class=\"data row42 col0\" >float64</td>\n",
       "      <td id=\"T_5fa6f_row42_col1\" class=\"data row42 col1\" >0</td>\n",
       "      <td id=\"T_5fa6f_row42_col2\" class=\"data row42 col2\" >0</td>\n",
       "      <td id=\"T_5fa6f_row42_col3\" class=\"data row42 col3\" >0.000000</td>\n",
       "      <td id=\"T_5fa6f_row42_col4\" class=\"data row42 col4\" >19</td>\n",
       "      <td id=\"T_5fa6f_row42_col5\" class=\"data row42 col5\" >22</td>\n",
       "    </tr>\n",
       "    <tr>\n",
       "      <th id=\"T_5fa6f_level0_row43\" class=\"row_heading level0 row43\" >DE827430_Open</th>\n",
       "      <td id=\"T_5fa6f_row43_col0\" class=\"data row43 col0\" >float64</td>\n",
       "      <td id=\"T_5fa6f_row43_col1\" class=\"data row43 col1\" >0</td>\n",
       "      <td id=\"T_5fa6f_row43_col2\" class=\"data row43 col2\" >0</td>\n",
       "      <td id=\"T_5fa6f_row43_col3\" class=\"data row43 col3\" >0.000000</td>\n",
       "      <td id=\"T_5fa6f_row43_col4\" class=\"data row43 col4\" >20</td>\n",
       "      <td id=\"T_5fa6f_row43_col5\" class=\"data row43 col5\" >22</td>\n",
       "    </tr>\n",
       "    <tr>\n",
       "      <th id=\"T_5fa6f_level0_row44\" class=\"row_heading level0 row44\" >DE827430_High</th>\n",
       "      <td id=\"T_5fa6f_row44_col0\" class=\"data row44 col0\" >float64</td>\n",
       "      <td id=\"T_5fa6f_row44_col1\" class=\"data row44 col1\" >0</td>\n",
       "      <td id=\"T_5fa6f_row44_col2\" class=\"data row44 col2\" >0</td>\n",
       "      <td id=\"T_5fa6f_row44_col3\" class=\"data row44 col3\" >0.000000</td>\n",
       "      <td id=\"T_5fa6f_row44_col4\" class=\"data row44 col4\" >18</td>\n",
       "      <td id=\"T_5fa6f_row44_col5\" class=\"data row44 col5\" >22</td>\n",
       "    </tr>\n",
       "    <tr>\n",
       "      <th id=\"T_5fa6f_level0_row45\" class=\"row_heading level0 row45\" >DE827430_Low</th>\n",
       "      <td id=\"T_5fa6f_row45_col0\" class=\"data row45 col0\" >float64</td>\n",
       "      <td id=\"T_5fa6f_row45_col1\" class=\"data row45 col1\" >0</td>\n",
       "      <td id=\"T_5fa6f_row45_col2\" class=\"data row45 col2\" >0</td>\n",
       "      <td id=\"T_5fa6f_row45_col3\" class=\"data row45 col3\" >0.000000</td>\n",
       "      <td id=\"T_5fa6f_row45_col4\" class=\"data row45 col4\" >20</td>\n",
       "      <td id=\"T_5fa6f_row45_col5\" class=\"data row45 col5\" >22</td>\n",
       "    </tr>\n",
       "    <tr>\n",
       "      <th id=\"T_5fa6f_level0_row46\" class=\"row_heading level0 row46\" >DE827430_Change</th>\n",
       "      <td id=\"T_5fa6f_row46_col0\" class=\"data row46 col0\" >float64</td>\n",
       "      <td id=\"T_5fa6f_row46_col1\" class=\"data row46 col1\" >0</td>\n",
       "      <td id=\"T_5fa6f_row46_col2\" class=\"data row46 col2\" >0</td>\n",
       "      <td id=\"T_5fa6f_row46_col3\" class=\"data row46 col3\" >0.000000</td>\n",
       "      <td id=\"T_5fa6f_row46_col4\" class=\"data row46 col4\" >20</td>\n",
       "      <td id=\"T_5fa6f_row46_col5\" class=\"data row46 col5\" >22</td>\n",
       "    </tr>\n",
       "    <tr>\n",
       "      <th id=\"T_5fa6f_level0_row47\" class=\"row_heading level0 row47\" >DE918556_Close</th>\n",
       "      <td id=\"T_5fa6f_row47_col0\" class=\"data row47 col0\" >float64</td>\n",
       "      <td id=\"T_5fa6f_row47_col1\" class=\"data row47 col1\" >0</td>\n",
       "      <td id=\"T_5fa6f_row47_col2\" class=\"data row47 col2\" >0</td>\n",
       "      <td id=\"T_5fa6f_row47_col3\" class=\"data row47 col3\" >0.000000</td>\n",
       "      <td id=\"T_5fa6f_row47_col4\" class=\"data row47 col4\" >21</td>\n",
       "      <td id=\"T_5fa6f_row47_col5\" class=\"data row47 col5\" >22</td>\n",
       "    </tr>\n",
       "    <tr>\n",
       "      <th id=\"T_5fa6f_level0_row48\" class=\"row_heading level0 row48\" >DE918556_Open</th>\n",
       "      <td id=\"T_5fa6f_row48_col0\" class=\"data row48 col0\" >float64</td>\n",
       "      <td id=\"T_5fa6f_row48_col1\" class=\"data row48 col1\" >0</td>\n",
       "      <td id=\"T_5fa6f_row48_col2\" class=\"data row48 col2\" >0</td>\n",
       "      <td id=\"T_5fa6f_row48_col3\" class=\"data row48 col3\" >0.000000</td>\n",
       "      <td id=\"T_5fa6f_row48_col4\" class=\"data row48 col4\" >21</td>\n",
       "      <td id=\"T_5fa6f_row48_col5\" class=\"data row48 col5\" >22</td>\n",
       "    </tr>\n",
       "    <tr>\n",
       "      <th id=\"T_5fa6f_level0_row49\" class=\"row_heading level0 row49\" >DE918556_High</th>\n",
       "      <td id=\"T_5fa6f_row49_col0\" class=\"data row49 col0\" >float64</td>\n",
       "      <td id=\"T_5fa6f_row49_col1\" class=\"data row49 col1\" >0</td>\n",
       "      <td id=\"T_5fa6f_row49_col2\" class=\"data row49 col2\" >0</td>\n",
       "      <td id=\"T_5fa6f_row49_col3\" class=\"data row49 col3\" >0.000000</td>\n",
       "      <td id=\"T_5fa6f_row49_col4\" class=\"data row49 col4\" >21</td>\n",
       "      <td id=\"T_5fa6f_row49_col5\" class=\"data row49 col5\" >22</td>\n",
       "    </tr>\n",
       "    <tr>\n",
       "      <th id=\"T_5fa6f_level0_row50\" class=\"row_heading level0 row50\" >DE918556_Low</th>\n",
       "      <td id=\"T_5fa6f_row50_col0\" class=\"data row50 col0\" >float64</td>\n",
       "      <td id=\"T_5fa6f_row50_col1\" class=\"data row50 col1\" >0</td>\n",
       "      <td id=\"T_5fa6f_row50_col2\" class=\"data row50 col2\" >0</td>\n",
       "      <td id=\"T_5fa6f_row50_col3\" class=\"data row50 col3\" >0.000000</td>\n",
       "      <td id=\"T_5fa6f_row50_col4\" class=\"data row50 col4\" >21</td>\n",
       "      <td id=\"T_5fa6f_row50_col5\" class=\"data row50 col5\" >22</td>\n",
       "    </tr>\n",
       "    <tr>\n",
       "      <th id=\"T_5fa6f_level0_row51\" class=\"row_heading level0 row51\" >DE918556_Change</th>\n",
       "      <td id=\"T_5fa6f_row51_col0\" class=\"data row51 col0\" >float64</td>\n",
       "      <td id=\"T_5fa6f_row51_col1\" class=\"data row51 col1\" >0</td>\n",
       "      <td id=\"T_5fa6f_row51_col2\" class=\"data row51 col2\" >0</td>\n",
       "      <td id=\"T_5fa6f_row51_col3\" class=\"data row51 col3\" >0.000000</td>\n",
       "      <td id=\"T_5fa6f_row51_col4\" class=\"data row51 col4\" >19</td>\n",
       "      <td id=\"T_5fa6f_row51_col5\" class=\"data row51 col5\" >22</td>\n",
       "    </tr>\n",
       "  </tbody>\n",
       "</table>\n"
      ],
      "text/plain": [
       "<pandas.io.formats.style.Styler at 0x16d74679d30>"
      ]
     },
     "execution_count": 10,
     "metadata": {},
     "output_type": "execute_result"
    }
   ],
   "source": [
    "def summary(df):\n",
    "    summary_df = pd.DataFrame(df.dtypes, columns=['dtype'])\n",
    "    summary_df['missing'] = df.isnull().sum()\n",
    "    summary_df['duplicates'] = df.duplicated().sum()\n",
    "    summary_df['missing_per'] = df.isnull().sum() / len(df) * 100\n",
    "    summary_df['uniques'] = df.nunique().values\n",
    "    summary_df['count'] = df.count().values\n",
    "    return summary_df\n",
    "\n",
    "summary(df).style.background_gradient(cmap='Blues')"
   ]
  },
  {
   "cell_type": "code",
   "execution_count": 11,
   "id": "9cf70aa3-b771-4843-b700-b63fd5650e8a",
   "metadata": {},
   "outputs": [
    {
     "name": "stdout",
     "output_type": "stream",
     "text": [
      "Data shape:  (22, 52)\n",
      "Total observations: 22\n"
     ]
    }
   ],
   "source": [
    "print(\"Data shape: \", df.shape)\n",
    "print(f\"Total observations: {len(df)}\")"
   ]
  },
  {
   "cell_type": "markdown",
   "id": "ba87db83-5c74-4494-95b1-975fa709d543",
   "metadata": {},
   "source": [
    "### 4. DATA VISUALIZATION: TIMESERIES AND MATRIX CORRELATION CHARTS"
   ]
  },
  {
   "cell_type": "code",
   "execution_count": 12,
   "id": "146f1929-fb7e-4045-a597-e7fb5ed77713",
   "metadata": {},
   "outputs": [
    {
     "data": {
      "application/vnd.plotly.v1+json": {
       "config": {
        "plotlyServerURL": "https://plot.ly"
       },
       "data": [
        {
         "line": {
          "color": "#2f4b7c",
          "width": 2
         },
         "mode": "lines",
         "name": "CTG Close Price",
         "type": "scatter",
         "x": [
          "2025-08-18T00:00:00.000000000",
          "2025-08-19T00:00:00.000000000",
          "2025-08-20T00:00:00.000000000",
          "2025-08-21T00:00:00.000000000",
          "2025-08-22T00:00:00.000000000",
          "2025-08-25T00:00:00.000000000",
          "2025-08-26T00:00:00.000000000",
          "2025-08-27T00:00:00.000000000",
          "2025-08-28T00:00:00.000000000",
          "2025-08-29T00:00:00.000000000",
          "2025-09-03T00:00:00.000000000",
          "2025-09-04T00:00:00.000000000",
          "2025-09-05T00:00:00.000000000",
          "2025-09-08T00:00:00.000000000",
          "2025-09-09T00:00:00.000000000",
          "2025-09-10T00:00:00.000000000",
          "2025-09-11T00:00:00.000000000",
          "2025-09-12T00:00:00.000000000",
          "2025-09-15T00:00:00.000000000",
          "2025-09-16T00:00:00.000000000",
          "2025-09-17T00:00:00.000000000",
          "2025-09-18T00:00:00.000000000"
         ],
         "y": {
          "bdata": "dL0AAMDBAACoxQAAWMoAANTGAADMvwAAAMgAAJzHAACQyQAAZMgAAKjFAAA4xwAAfMQAAFzBAADAwQAARMUAAKjFAADgxAAAkMkAABTNAADIyAAAnMcAAA==",
          "dtype": "i4"
         }
        }
       ],
       "layout": {
        "font": {
         "size": 15
        },
        "height": 500,
        "legend": {
         "font": {
          "size": 15
         },
         "orientation": "h",
         "x": 1,
         "xanchor": "right",
         "y": 1.02,
         "yanchor": "bottom"
        },
        "template": {
         "data": {
          "bar": [
           {
            "error_x": {
             "color": "#2a3f5f"
            },
            "error_y": {
             "color": "#2a3f5f"
            },
            "marker": {
             "line": {
              "color": "#E5ECF6",
              "width": 0.5
             },
             "pattern": {
              "fillmode": "overlay",
              "size": 10,
              "solidity": 0.2
             }
            },
            "type": "bar"
           }
          ],
          "barpolar": [
           {
            "marker": {
             "line": {
              "color": "#E5ECF6",
              "width": 0.5
             },
             "pattern": {
              "fillmode": "overlay",
              "size": 10,
              "solidity": 0.2
             }
            },
            "type": "barpolar"
           }
          ],
          "carpet": [
           {
            "aaxis": {
             "endlinecolor": "#2a3f5f",
             "gridcolor": "white",
             "linecolor": "white",
             "minorgridcolor": "white",
             "startlinecolor": "#2a3f5f"
            },
            "baxis": {
             "endlinecolor": "#2a3f5f",
             "gridcolor": "white",
             "linecolor": "white",
             "minorgridcolor": "white",
             "startlinecolor": "#2a3f5f"
            },
            "type": "carpet"
           }
          ],
          "choropleth": [
           {
            "colorbar": {
             "outlinewidth": 0,
             "ticks": ""
            },
            "type": "choropleth"
           }
          ],
          "contour": [
           {
            "colorbar": {
             "outlinewidth": 0,
             "ticks": ""
            },
            "colorscale": [
             [
              0,
              "#0d0887"
             ],
             [
              0.1111111111111111,
              "#46039f"
             ],
             [
              0.2222222222222222,
              "#7201a8"
             ],
             [
              0.3333333333333333,
              "#9c179e"
             ],
             [
              0.4444444444444444,
              "#bd3786"
             ],
             [
              0.5555555555555556,
              "#d8576b"
             ],
             [
              0.6666666666666666,
              "#ed7953"
             ],
             [
              0.7777777777777778,
              "#fb9f3a"
             ],
             [
              0.8888888888888888,
              "#fdca26"
             ],
             [
              1,
              "#f0f921"
             ]
            ],
            "type": "contour"
           }
          ],
          "contourcarpet": [
           {
            "colorbar": {
             "outlinewidth": 0,
             "ticks": ""
            },
            "type": "contourcarpet"
           }
          ],
          "heatmap": [
           {
            "colorbar": {
             "outlinewidth": 0,
             "ticks": ""
            },
            "colorscale": [
             [
              0,
              "#0d0887"
             ],
             [
              0.1111111111111111,
              "#46039f"
             ],
             [
              0.2222222222222222,
              "#7201a8"
             ],
             [
              0.3333333333333333,
              "#9c179e"
             ],
             [
              0.4444444444444444,
              "#bd3786"
             ],
             [
              0.5555555555555556,
              "#d8576b"
             ],
             [
              0.6666666666666666,
              "#ed7953"
             ],
             [
              0.7777777777777778,
              "#fb9f3a"
             ],
             [
              0.8888888888888888,
              "#fdca26"
             ],
             [
              1,
              "#f0f921"
             ]
            ],
            "type": "heatmap"
           }
          ],
          "histogram": [
           {
            "marker": {
             "pattern": {
              "fillmode": "overlay",
              "size": 10,
              "solidity": 0.2
             }
            },
            "type": "histogram"
           }
          ],
          "histogram2d": [
           {
            "colorbar": {
             "outlinewidth": 0,
             "ticks": ""
            },
            "colorscale": [
             [
              0,
              "#0d0887"
             ],
             [
              0.1111111111111111,
              "#46039f"
             ],
             [
              0.2222222222222222,
              "#7201a8"
             ],
             [
              0.3333333333333333,
              "#9c179e"
             ],
             [
              0.4444444444444444,
              "#bd3786"
             ],
             [
              0.5555555555555556,
              "#d8576b"
             ],
             [
              0.6666666666666666,
              "#ed7953"
             ],
             [
              0.7777777777777778,
              "#fb9f3a"
             ],
             [
              0.8888888888888888,
              "#fdca26"
             ],
             [
              1,
              "#f0f921"
             ]
            ],
            "type": "histogram2d"
           }
          ],
          "histogram2dcontour": [
           {
            "colorbar": {
             "outlinewidth": 0,
             "ticks": ""
            },
            "colorscale": [
             [
              0,
              "#0d0887"
             ],
             [
              0.1111111111111111,
              "#46039f"
             ],
             [
              0.2222222222222222,
              "#7201a8"
             ],
             [
              0.3333333333333333,
              "#9c179e"
             ],
             [
              0.4444444444444444,
              "#bd3786"
             ],
             [
              0.5555555555555556,
              "#d8576b"
             ],
             [
              0.6666666666666666,
              "#ed7953"
             ],
             [
              0.7777777777777778,
              "#fb9f3a"
             ],
             [
              0.8888888888888888,
              "#fdca26"
             ],
             [
              1,
              "#f0f921"
             ]
            ],
            "type": "histogram2dcontour"
           }
          ],
          "mesh3d": [
           {
            "colorbar": {
             "outlinewidth": 0,
             "ticks": ""
            },
            "type": "mesh3d"
           }
          ],
          "parcoords": [
           {
            "line": {
             "colorbar": {
              "outlinewidth": 0,
              "ticks": ""
             }
            },
            "type": "parcoords"
           }
          ],
          "pie": [
           {
            "automargin": true,
            "type": "pie"
           }
          ],
          "scatter": [
           {
            "fillpattern": {
             "fillmode": "overlay",
             "size": 10,
             "solidity": 0.2
            },
            "type": "scatter"
           }
          ],
          "scatter3d": [
           {
            "line": {
             "colorbar": {
              "outlinewidth": 0,
              "ticks": ""
             }
            },
            "marker": {
             "colorbar": {
              "outlinewidth": 0,
              "ticks": ""
             }
            },
            "type": "scatter3d"
           }
          ],
          "scattercarpet": [
           {
            "marker": {
             "colorbar": {
              "outlinewidth": 0,
              "ticks": ""
             }
            },
            "type": "scattercarpet"
           }
          ],
          "scattergeo": [
           {
            "marker": {
             "colorbar": {
              "outlinewidth": 0,
              "ticks": ""
             }
            },
            "type": "scattergeo"
           }
          ],
          "scattergl": [
           {
            "marker": {
             "colorbar": {
              "outlinewidth": 0,
              "ticks": ""
             }
            },
            "type": "scattergl"
           }
          ],
          "scattermap": [
           {
            "marker": {
             "colorbar": {
              "outlinewidth": 0,
              "ticks": ""
             }
            },
            "type": "scattermap"
           }
          ],
          "scattermapbox": [
           {
            "marker": {
             "colorbar": {
              "outlinewidth": 0,
              "ticks": ""
             }
            },
            "type": "scattermapbox"
           }
          ],
          "scatterpolar": [
           {
            "marker": {
             "colorbar": {
              "outlinewidth": 0,
              "ticks": ""
             }
            },
            "type": "scatterpolar"
           }
          ],
          "scatterpolargl": [
           {
            "marker": {
             "colorbar": {
              "outlinewidth": 0,
              "ticks": ""
             }
            },
            "type": "scatterpolargl"
           }
          ],
          "scatterternary": [
           {
            "marker": {
             "colorbar": {
              "outlinewidth": 0,
              "ticks": ""
             }
            },
            "type": "scatterternary"
           }
          ],
          "surface": [
           {
            "colorbar": {
             "outlinewidth": 0,
             "ticks": ""
            },
            "colorscale": [
             [
              0,
              "#0d0887"
             ],
             [
              0.1111111111111111,
              "#46039f"
             ],
             [
              0.2222222222222222,
              "#7201a8"
             ],
             [
              0.3333333333333333,
              "#9c179e"
             ],
             [
              0.4444444444444444,
              "#bd3786"
             ],
             [
              0.5555555555555556,
              "#d8576b"
             ],
             [
              0.6666666666666666,
              "#ed7953"
             ],
             [
              0.7777777777777778,
              "#fb9f3a"
             ],
             [
              0.8888888888888888,
              "#fdca26"
             ],
             [
              1,
              "#f0f921"
             ]
            ],
            "type": "surface"
           }
          ],
          "table": [
           {
            "cells": {
             "fill": {
              "color": "#EBF0F8"
             },
             "line": {
              "color": "white"
             }
            },
            "header": {
             "fill": {
              "color": "#C8D4E3"
             },
             "line": {
              "color": "white"
             }
            },
            "type": "table"
           }
          ]
         },
         "layout": {
          "annotationdefaults": {
           "arrowcolor": "#2a3f5f",
           "arrowhead": 0,
           "arrowwidth": 1
          },
          "autotypenumbers": "strict",
          "coloraxis": {
           "colorbar": {
            "outlinewidth": 0,
            "ticks": ""
           }
          },
          "colorscale": {
           "diverging": [
            [
             0,
             "#8e0152"
            ],
            [
             0.1,
             "#c51b7d"
            ],
            [
             0.2,
             "#de77ae"
            ],
            [
             0.3,
             "#f1b6da"
            ],
            [
             0.4,
             "#fde0ef"
            ],
            [
             0.5,
             "#f7f7f7"
            ],
            [
             0.6,
             "#e6f5d0"
            ],
            [
             0.7,
             "#b8e186"
            ],
            [
             0.8,
             "#7fbc41"
            ],
            [
             0.9,
             "#4d9221"
            ],
            [
             1,
             "#276419"
            ]
           ],
           "sequential": [
            [
             0,
             "#0d0887"
            ],
            [
             0.1111111111111111,
             "#46039f"
            ],
            [
             0.2222222222222222,
             "#7201a8"
            ],
            [
             0.3333333333333333,
             "#9c179e"
            ],
            [
             0.4444444444444444,
             "#bd3786"
            ],
            [
             0.5555555555555556,
             "#d8576b"
            ],
            [
             0.6666666666666666,
             "#ed7953"
            ],
            [
             0.7777777777777778,
             "#fb9f3a"
            ],
            [
             0.8888888888888888,
             "#fdca26"
            ],
            [
             1,
             "#f0f921"
            ]
           ],
           "sequentialminus": [
            [
             0,
             "#0d0887"
            ],
            [
             0.1111111111111111,
             "#46039f"
            ],
            [
             0.2222222222222222,
             "#7201a8"
            ],
            [
             0.3333333333333333,
             "#9c179e"
            ],
            [
             0.4444444444444444,
             "#bd3786"
            ],
            [
             0.5555555555555556,
             "#d8576b"
            ],
            [
             0.6666666666666666,
             "#ed7953"
            ],
            [
             0.7777777777777778,
             "#fb9f3a"
            ],
            [
             0.8888888888888888,
             "#fdca26"
            ],
            [
             1,
             "#f0f921"
            ]
           ]
          },
          "colorway": [
           "#636efa",
           "#EF553B",
           "#00cc96",
           "#ab63fa",
           "#FFA15A",
           "#19d3f3",
           "#FF6692",
           "#B6E880",
           "#FF97FF",
           "#FECB52"
          ],
          "font": {
           "color": "#2a3f5f"
          },
          "geo": {
           "bgcolor": "white",
           "lakecolor": "white",
           "landcolor": "#E5ECF6",
           "showlakes": true,
           "showland": true,
           "subunitcolor": "white"
          },
          "hoverlabel": {
           "align": "left"
          },
          "hovermode": "closest",
          "mapbox": {
           "style": "light"
          },
          "paper_bgcolor": "white",
          "plot_bgcolor": "#E5ECF6",
          "polar": {
           "angularaxis": {
            "gridcolor": "white",
            "linecolor": "white",
            "ticks": ""
           },
           "bgcolor": "#E5ECF6",
           "radialaxis": {
            "gridcolor": "white",
            "linecolor": "white",
            "ticks": ""
           }
          },
          "scene": {
           "xaxis": {
            "backgroundcolor": "#E5ECF6",
            "gridcolor": "white",
            "gridwidth": 2,
            "linecolor": "white",
            "showbackground": true,
            "ticks": "",
            "zerolinecolor": "white"
           },
           "yaxis": {
            "backgroundcolor": "#E5ECF6",
            "gridcolor": "white",
            "gridwidth": 2,
            "linecolor": "white",
            "showbackground": true,
            "ticks": "",
            "zerolinecolor": "white"
           },
           "zaxis": {
            "backgroundcolor": "#E5ECF6",
            "gridcolor": "white",
            "gridwidth": 2,
            "linecolor": "white",
            "showbackground": true,
            "ticks": "",
            "zerolinecolor": "white"
           }
          },
          "shapedefaults": {
           "line": {
            "color": "#2a3f5f"
           }
          },
          "ternary": {
           "aaxis": {
            "gridcolor": "white",
            "linecolor": "white",
            "ticks": ""
           },
           "baxis": {
            "gridcolor": "white",
            "linecolor": "white",
            "ticks": ""
           },
           "bgcolor": "#E5ECF6",
           "caxis": {
            "gridcolor": "white",
            "linecolor": "white",
            "ticks": ""
           }
          },
          "title": {
           "x": 0.05
          },
          "xaxis": {
           "automargin": true,
           "gridcolor": "white",
           "linecolor": "white",
           "ticks": "",
           "title": {
            "standoff": 15
           },
           "zerolinecolor": "white",
           "zerolinewidth": 2
          },
          "yaxis": {
           "automargin": true,
           "gridcolor": "white",
           "linecolor": "white",
           "ticks": "",
           "title": {
            "standoff": 15
           },
           "zerolinecolor": "white",
           "zerolinewidth": 2
          }
         }
        },
        "title": {
         "font": {
          "size": 26
         },
         "text": "<b>CTG CLOSE PRICE VISUALIZATION FROM 1997 TO 2025</b>",
         "x": 0.5
        },
        "width": 1100,
        "xaxis": {
         "dtick": "M24",
         "gridwidth": 1.2,
         "linecolor": "black",
         "linewidth": 1,
         "mirror": true,
         "showgrid": true,
         "showline": true,
         "tickformat": "%Y",
         "ticklabelstandoff": 10,
         "title": {
          "text": "Year"
         }
        },
        "yaxis": {
         "gridwidth": 1.2,
         "linecolor": "black",
         "linewidth": 1,
         "mirror": true,
         "showgrid": true,
         "showline": true,
         "ticklabelstandoff": 10,
         "title": {
          "text": "Close Price"
         },
         "zeroline": true,
         "zerolinewidth": 1.5
        }
       }
      }
     },
     "metadata": {},
     "output_type": "display_data"
    }
   ],
   "source": [
    "import plotly.graph_objects as go\n",
    "\n",
    "fig = go.Figure()\n",
    "\n",
    "fig.add_trace(go.Scatter(\n",
    "    x=df['Date'],\n",
    "    y=df['CTG_Close'],\n",
    "    mode='lines',\n",
    "    name='CTG Close Price',\n",
    "    line=dict(color=\"#2f4b7c\", width=2),\n",
    "))\n",
    "\n",
    "fig.update_layout(\n",
    "    title=dict(\n",
    "        text='<b>CTG CLOSE PRICE VISUALIZATION FROM 1997 TO 2025</b>',\n",
    "        x=0.5,\n",
    "        font=dict(size=26)\n",
    "    ),\n",
    "    xaxis_title='Year',\n",
    "    yaxis_title='Close Price',\n",
    "    width=1100,\n",
    "    height=500,\n",
    "    font=dict(size=15),\n",
    "    legend=dict(\n",
    "        orientation='h',\n",
    "        yanchor='bottom',\n",
    "        y=1.02,\n",
    "        xanchor='right',\n",
    "        x=1,\n",
    "        font=dict(size=15)\n",
    "    )\n",
    ")\n",
    "\n",
    "fig.update_xaxes(\n",
    "    showgrid=True,\n",
    "    gridwidth=1.2,\n",
    "    dtick=\"M24\",\n",
    "    tickformat=\"%Y\",\n",
    "    showline=True,\n",
    "    linewidth=1,\n",
    "    linecolor='black',\n",
    "    mirror=True,\n",
    "    ticklabelstandoff=10 \n",
    ")\n",
    "\n",
    "fig.update_yaxes(\n",
    "    showgrid=True,\n",
    "    gridwidth=1.2,\n",
    "    zeroline=True,\n",
    "    zerolinewidth=1.5,\n",
    "    showline=True,\n",
    "    linewidth=1,\n",
    "    linecolor='black',\n",
    "    mirror=True,\n",
    "    ticklabelstandoff=10\n",
    ")\n",
    "\n",
    "fig.show()\n"
   ]
  },
  {
   "cell_type": "code",
   "execution_count": 32,
   "id": "767637e9-a665-4b75-b974-a896dcc52aeb",
   "metadata": {},
   "outputs": [
    {
     "data": {
      "image/png": "[encoded data removed]",
      "text/plain": [
       "<Figure size 1200x1000 with 2 Axes>"
      ]
     },
     "metadata": {},
     "output_type": "display_data"
    }
   ],
   "source": [
    "cols_of_interest = [c for c in df.columns if c.endswith((\"Close\", \"Change\"))]\n",
    "corr = df[cols_of_interest].corr()\n",
    "filtered_corr = corr.where(corr.abs() > 0.1)\n",
    "mask = np.triu(np.ones_like(filtered_corr, dtype=bool))\n",
    "\n",
    "plt.figure(figsize=(12,10))\n",
    "sns.heatmap(\n",
    "    filtered_corr,\n",
    "    mask=mask,\n",
    "    annot=True,\n",
    "    cmap=\"coolwarm\",\n",
    "    vmin=-1, vmax=1,\n",
    "    fmt=\".2f\"\n",
    ")\n",
    "plt.title(\"Correlation Matrix (Close & Change, |corr| > 0.1)\", fontsize=14, fontweight=\"bold\")\n",
    "plt.xticks(rotation=90)\n",
    "plt.yticks(rotation=0)\n",
    "plt.tight_layout()\n",
    "plt.show()\n"
   ]
  },
  {
   "cell_type": "markdown",
   "id": "05bd1bf5-9816-42bb-a847-4010fcba69cb",
   "metadata": {},
   "source": [
    "### 5. K - MEAN CLUSTERING MODELLING "
   ]
  },
  {
   "cell_type": "code",
   "execution_count": 38,
   "id": "4f135302-02ef-45c9-b1f1-e92999e4a587",
   "metadata": {},
   "outputs": [],
   "source": [
    "## t chọn các cột close để phân loại và gom cụm các giá đóng cửa có tương quan với nhau"
   ]
  },
  {
   "cell_type": "code",
   "execution_count": 44,
   "id": "ef7c23d7-3f2e-4f8e-90be-f1b3579ef62c",
   "metadata": {},
   "outputs": [
    {
     "data": {
      "text/plain": [
       "['CTG_Close',\n",
       " 'DE571515_Close',\n",
       " 'DE590603_Close',\n",
       " 'DE685964_Close',\n",
       " 'DE721791_Close',\n",
       " 'DE721792_Close',\n",
       " 'DE768918_Close',\n",
       " 'DE815813_Close',\n",
       " 'DE827430_Close',\n",
       " 'DE918556_Close']"
      ]
     },
     "execution_count": 44,
     "metadata": {},
     "output_type": "execute_result"
    }
   ],
   "source": [
    "features = [col for col in df.columns if col.endswith(\"_Close\")] \n",
    "features"
   ]
  },
  {
   "cell_type": "code",
   "execution_count": 50,
   "id": "0fdbd9d3-e5d0-464a-9f56-cabfe9dc60df",
   "metadata": {},
   "outputs": [],
   "source": [
    "# create data2 that associated with close price in several stock "
   ]
  },
  {
   "cell_type": "code",
   "execution_count": 48,
   "id": "36589bc4-8648-4ad0-950c-77b5cac98d6e",
   "metadata": {},
   "outputs": [
    {
     "data": {
      "text/html": [
       "<div>\n",
       "<style scoped>\n",
       "    .dataframe tbody tr th:only-of-type {\n",
       "        vertical-align: middle;\n",
       "    }\n",
       "\n",
       "    .dataframe tbody tr th {\n",
       "        vertical-align: top;\n",
       "    }\n",
       "\n",
       "    .dataframe thead th {\n",
       "        text-align: right;\n",
       "    }\n",
       "</style>\n",
       "<table border=\"1\" class=\"dataframe\">\n",
       "  <thead>\n",
       "    <tr style=\"text-align: right;\">\n",
       "      <th></th>\n",
       "      <th>CTG_Close</th>\n",
       "      <th>DE571515_Close</th>\n",
       "      <th>DE590603_Close</th>\n",
       "      <th>DE685964_Close</th>\n",
       "      <th>DE721791_Close</th>\n",
       "      <th>DE721792_Close</th>\n",
       "      <th>DE768918_Close</th>\n",
       "      <th>DE815813_Close</th>\n",
       "      <th>DE827430_Close</th>\n",
       "      <th>DE918556_Close</th>\n",
       "    </tr>\n",
       "  </thead>\n",
       "  <tbody>\n",
       "    <tr>\n",
       "      <th>0</th>\n",
       "      <td>48500</td>\n",
       "      <td>263.44</td>\n",
       "      <td>35.73</td>\n",
       "      <td>226.24</td>\n",
       "      <td>206.64</td>\n",
       "      <td>210.33</td>\n",
       "      <td>37.04</td>\n",
       "      <td>98.56</td>\n",
       "      <td>27.66</td>\n",
       "      <td>131.47</td>\n",
       "    </tr>\n",
       "    <tr>\n",
       "      <th>1</th>\n",
       "      <td>49600</td>\n",
       "      <td>259.02</td>\n",
       "      <td>35.61</td>\n",
       "      <td>224.67</td>\n",
       "      <td>206.53</td>\n",
       "      <td>210.23</td>\n",
       "      <td>37.14</td>\n",
       "      <td>97.85</td>\n",
       "      <td>27.80</td>\n",
       "      <td>131.26</td>\n",
       "    </tr>\n",
       "    <tr>\n",
       "      <th>2</th>\n",
       "      <td>50600</td>\n",
       "      <td>259.05</td>\n",
       "      <td>35.58</td>\n",
       "      <td>225.17</td>\n",
       "      <td>206.06</td>\n",
       "      <td>209.74</td>\n",
       "      <td>37.11</td>\n",
       "      <td>98.04</td>\n",
       "      <td>27.86</td>\n",
       "      <td>131.61</td>\n",
       "    </tr>\n",
       "    <tr>\n",
       "      <th>3</th>\n",
       "      <td>51800</td>\n",
       "      <td>258.69</td>\n",
       "      <td>35.57</td>\n",
       "      <td>225.93</td>\n",
       "      <td>205.79</td>\n",
       "      <td>209.49</td>\n",
       "      <td>37.02</td>\n",
       "      <td>98.51</td>\n",
       "      <td>27.42</td>\n",
       "      <td>131.38</td>\n",
       "    </tr>\n",
       "    <tr>\n",
       "      <th>4</th>\n",
       "      <td>50900</td>\n",
       "      <td>264.97</td>\n",
       "      <td>35.74</td>\n",
       "      <td>229.32</td>\n",
       "      <td>206.48</td>\n",
       "      <td>210.20</td>\n",
       "      <td>37.18</td>\n",
       "      <td>99.84</td>\n",
       "      <td>27.83</td>\n",
       "      <td>132.21</td>\n",
       "    </tr>\n",
       "  </tbody>\n",
       "</table>\n",
       "</div>"
      ],
      "text/plain": [
       "   CTG_Close  DE571515_Close  DE590603_Close  DE685964_Close  DE721791_Close  \\\n",
       "0      48500          263.44           35.73          226.24          206.64   \n",
       "1      49600          259.02           35.61          224.67          206.53   \n",
       "2      50600          259.05           35.58          225.17          206.06   \n",
       "3      51800          258.69           35.57          225.93          205.79   \n",
       "4      50900          264.97           35.74          229.32          206.48   \n",
       "\n",
       "   DE721792_Close  DE768918_Close  DE815813_Close  DE827430_Close  \\\n",
       "0          210.33           37.04           98.56           27.66   \n",
       "1          210.23           37.14           97.85           27.80   \n",
       "2          209.74           37.11           98.04           27.86   \n",
       "3          209.49           37.02           98.51           27.42   \n",
       "4          210.20           37.18           99.84           27.83   \n",
       "\n",
       "   DE918556_Close  \n",
       "0          131.47  \n",
       "1          131.26  \n",
       "2          131.61  \n",
       "3          131.38  \n",
       "4          132.21  "
      ]
     },
     "execution_count": 48,
     "metadata": {},
     "output_type": "execute_result"
    }
   ],
   "source": [
    "X = df[features]\n",
    "X.head()"
   ]
  },
  {
   "cell_type": "code",
   "execution_count": 52,
   "id": "a5e1989e-88eb-4d91-9f03-1dd17c1d315d",
   "metadata": {},
   "outputs": [],
   "source": [
    "scaler = StandardScaler()\n",
    "X_scaled = scaler.fit_transform(X)"
   ]
  },
  {
   "cell_type": "code",
   "execution_count": 54,
   "id": "762d0ec7-cd87-4a8d-be2d-69458b9798e4",
   "metadata": {},
   "outputs": [],
   "source": [
    "# We use Elbow method to choosing the number of K groups"
   ]
  },
  {
   "cell_type": "code",
   "execution_count": 70,
   "id": "97ab1b31-781c-4ab3-92ec-62c240e07b89",
   "metadata": {},
   "outputs": [
    {
     "data": {
      "image/png": "[encoded data removed]",
      "text/plain": [
       "<Figure size 800x500 with 1 Axes>"
      ]
     },
     "metadata": {},
     "output_type": "display_data"
    }
   ],
   "source": [
    "import matplotlib.pyplot as plt\n",
    "from sklearn.cluster import KMeans\n",
    "\n",
    "# Elbow Method to indentify K groups \n",
    "inertia = []\n",
    "K_range = range(1, 10)\n",
    "for k in K_range:\n",
    "    km = KMeans(n_clusters=k, random_state=42, n_init=10)\n",
    "    km.fit(X_scaled)\n",
    "    inertia.append(km.inertia_)\n",
    "\n",
    "plt.figure(figsize=(8,5))\n",
    "plt.plot(K_range, inertia, 'bo-')\n",
    "plt.xlabel(\"Number groups of K\")\n",
    "plt.ylabel(\"Inertia (Within-Cluster SSE)\")\n",
    "plt.title(\"Elbow Method to choosing K\")\n",
    "\n",
    "best_k = 3\n",
    "plt.axvline(x=best_k, color='red', linestyle='-')\n",
    "plt.text(best_k+0.1, max(inertia)*0.9, f\"K={best_k}\", color='red')\n",
    "\n",
    "plt.show()\n"
   ]
  },
  {
   "cell_type": "code",
   "execution_count": 74,
   "id": "154c285a-20c8-4ee2-9078-0183ef3ad38d",
   "metadata": {},
   "outputs": [
    {
     "data": {
      "text/plain": [
       "0    0\n",
       "1    0\n",
       "2    0\n",
       "3    0\n",
       "4    0\n",
       "Name: Cluster, dtype: int32"
      ]
     },
     "execution_count": 74,
     "metadata": {},
     "output_type": "execute_result"
    }
   ],
   "source": [
    "kmeans = KMeans(n_clusters=3, random_state=42, n_init=10)\n",
    "clusters = kmeans.fit_predict(X_scaled)\n",
    "df[\"Cluster\"] = clusters\n",
    "df[\"Cluster\"].head()"
   ]
  },
  {
   "cell_type": "markdown",
   "id": "d2d68574-2acc-470c-830e-7d28056025a1",
   "metadata": {},
   "source": [
    "### 6. PCA SCALE DIMENSION AND DATA VISUALIZATION "
   ]
  },
  {
   "cell_type": "code",
   "execution_count": 85,
   "id": "1f792b9a-89df-40c7-84d8-ef78e8fd63cb",
   "metadata": {},
   "outputs": [
    {
     "data": {
      "text/plain": [
       "array([[-3.14231132,  1.27892749],\n",
       "       [-3.77356236,  0.38566072],\n",
       "       [-3.3762529 ,  0.25939449],\n",
       "       [-2.85401175, -0.49101836],\n",
       "       [-2.06026326,  1.59964277],\n",
       "       [-1.78645969,  2.31900186],\n",
       "       [-1.51493258,  1.05558249],\n",
       "       [-1.8749136 , -0.35321183],\n",
       "       [-1.82680303, -0.78834227],\n",
       "       [-1.605252  , -1.49087061],\n",
       "       [-0.04164235, -1.93553969],\n",
       "       [-0.60546329, -2.22836079],\n",
       "       [-0.32720197, -1.8828582 ],\n",
       "       [-0.15431018, -0.60128398],\n",
       "       [ 0.91162863,  0.45257306],\n",
       "       [ 2.30384398,  0.10072969],\n",
       "       [ 3.16468976,  1.59483356],\n",
       "       [ 3.10785123,  1.2283801 ],\n",
       "       [ 3.5555471 ,  1.10725883],\n",
       "       [ 3.69277111, -1.25722453],\n",
       "       [ 4.12473987, -0.22708734],\n",
       "       [ 4.08230859, -0.12618746]])"
      ]
     },
     "execution_count": 85,
     "metadata": {},
     "output_type": "execute_result"
    }
   ],
   "source": [
    "pca = PCA(n_components=2)\n",
    "X_pca = pca.fit_transform(X_scaled)\n",
    "X_pca"
   ]
  },
  {
   "cell_type": "code",
   "execution_count": 80,
   "id": "de30b9db-d382-47b1-8b39-8b885b169a81",
   "metadata": {},
   "outputs": [
    {
     "data": {
      "image/png": "[encoded data removed]",
      "text/plain": [
       "<Figure size 1000x700 with 1 Axes>"
      ]
     },
     "metadata": {},
     "output_type": "display_data"
    }
   ],
   "source": [
    "plt.figure(figsize=(10,7))\n",
    "plt.scatter(X_pca[:,0], X_pca[:,1], c=clusters, cmap=\"viridis\", s=80)\n",
    "plt.title(\"KMeans Clustering with PCA (2D)\")\n",
    "plt.xlabel(\"PCA 1\")\n",
    "plt.ylabel(\"PCA 2\")\n",
    "\n",
    "centers = pca.transform(kmeans.cluster_centers_)\n",
    "plt.scatter(centers[:,0], centers[:,1], c=\"red\", s=200, marker=\"X\")\n",
    "\n",
    "plt.show()"
   ]
  }
 ],
 "metadata": {
  "kernelspec": {
   "display_name": "Python 3 (ipykernel)",
   "language": "python",
   "name": "python3"
  },
  "language_info": {
   "codemirror_mode": {
    "name": "ipython",
    "version": 3
   },
   "file_extension": ".py",
   "mimetype": "text/x-python",
   "name": "python",
   "nbconvert_exporter": "python",
   "pygments_lexer": "ipython3",
   "version": "3.12.7"
  }
 },
 "nbformat": 4,
 "nbformat_minor": 5
}
